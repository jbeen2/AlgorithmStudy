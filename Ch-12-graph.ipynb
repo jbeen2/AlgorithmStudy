{
 "metadata": {
  "language_info": {
   "codemirror_mode": {
    "name": "ipython",
    "version": 3
   },
   "file_extension": ".py",
   "mimetype": "text/x-python",
   "name": "python",
   "nbconvert_exporter": "python",
   "pygments_lexer": "ipython3",
   "version": "3.6.8-candidate"
  },
  "orig_nbformat": 2,
  "kernelspec": {
   "name": "python_defaultSpec_1597604117377",
   "display_name": "Python 3.6.8 64-bit ('jbeen': virtualenv)"
  }
 },
 "nbformat": 4,
 "nbformat_minor": 2,
 "cells": [
  {
   "cell_type": "markdown",
   "metadata": {},
   "source": [
    "# 2020.08.16"
   ]
  },
  {
   "cell_type": "markdown",
   "metadata": {},
   "source": [
    "## 백준"
   ]
  },
  {
   "cell_type": "markdown",
   "metadata": {},
   "source": [
    "### 1260. DFS와 BFS"
   ]
  },
  {
   "cell_type": "code",
   "execution_count": 21,
   "metadata": {
    "tags": []
   },
   "outputs": [
    {
     "output_type": "stream",
     "name": "stdout",
     "text": "1 2 4 3\n1 2 3 4\n"
    }
   ],
   "source": [
    "import sys\n",
    "sys.setrecursionlimit(10**6) \n",
    "\n",
    "N, M, V = map(int, input().split()) # map(int, sys.stdin.readline().split()) # 한 줄을 읽는다 \n",
    "adj = [[] for _ in range(N+1)] # 인접리스트 \n",
    "\n",
    "for _ in range(M) : \n",
    "\tu, v = map(int, input().split()) # map(int, sys.stdin.readline().split())\n",
    "\tadj[u].append(v) # u의 인접한 노드는 v \n",
    "\tadj[v].append(u) # 양방향이라서 해주는거 ! \n",
    "\n",
    "adj = [sorted(a) for a in adj]\n",
    "\n",
    "dfs_list = [] # 방문하는 순서대로 여기에 정점 출력 \n",
    "bfs_list = [] \n",
    "\n",
    "def dfs(current) : \n",
    "  visited[current] = 1 \n",
    "  dfs_list.append(current)\n",
    "  for node in adj[current] : \n",
    "    if visited[node] == 0 : # 방문한 적이 없으면 \n",
    "      dfs(node) #dfs 호출 \n",
    "\n",
    "def bfs(root) : \n",
    "  visited[root] = 1 \n",
    "  queue = [root] \n",
    "\n",
    "  while queue : \n",
    "    current = queue.pop(0) \n",
    "    bfs_list.append(current)\n",
    "    for node in adj[current] :\n",
    "      if visited[node] == 0 and current not in queue : \n",
    "        queue.append(node)\n",
    "        visited[node] = 1 \n",
    "\n",
    "\n",
    "visited = [0] * (N+1) \n",
    "dfs(V)\n",
    "print(*dfs_list)\n",
    "\n",
    "visited = [0] * (N+1)\n",
    "bfs(V) \n",
    "print(*bfs_list)"
   ]
  },
  {
   "cell_type": "markdown",
   "metadata": {},
   "source": [
    "### 2606. 바이러스\n"
   ]
  },
  {
   "cell_type": "code",
   "execution_count": 1,
   "metadata": {
    "tags": []
   },
   "outputs": [
    {
     "output_type": "stream",
     "name": "stdout",
     "text": "4\n"
    }
   ],
   "source": [
    "# dfs\n",
    "import sys\n",
    "sys.setrecursionlimit(10**6) \n",
    "\n",
    "N, M = int(input()), int(input())\n",
    "\n",
    "adj = [[] for _ in range(N + 1)]\n",
    "visited = [False] * (N + 1)\n",
    "\n",
    "for _ in range(M):\n",
    "    u, v = map(int, input().split())\n",
    "    adj[u].append(v)\n",
    "    adj[v].append(u)\n",
    "    \n",
    "dfs_list = [] # 방문하는 순서대로 여기에 정점 출력 \n",
    "\n",
    "def dfs(current) : \n",
    "    visited[current] = True\n",
    "    dfs_list.append(current)\n",
    "    for node in adj[current] : \n",
    "        if visited[node] == 0 : # 방문한 적이 없으면 \n",
    "            dfs(node) #dfs 호출 \n",
    "            \n",
    "dfs(1)\n",
    "print(len(dfs_list)-1)"
   ]
  },
  {
   "cell_type": "code",
   "execution_count": null,
   "metadata": {},
   "outputs": [],
   "source": [
    "# bfs\n",
    "N, M = int(input()), int(input())\n",
    "\n",
    "adj = [[] for _ in range(N + 1)]\n",
    "visited = [False] * (N + 1)\n",
    "\n",
    "for _ in range(M):\n",
    "    u, v = map(int, input().split())\n",
    "    adj[u].append(v)\n",
    "    adj[v].append(u)\n",
    "\n",
    "def bfs(adj) : \n",
    "    queue = [1] # starting point \n",
    "    hist = [1]\n",
    "    \n",
    "    while queue : \n",
    "        x = queue.pop(0) # 1 \n",
    "        visited[x] = True\n",
    "        \n",
    "        for i in range(len(adj[x])) : # adj[1] = [2,5]\n",
    "            y = adj[x][i] # y = 2부터 탐색 \n",
    "            if not visited[y] and y not in queue : # visited = False이고 queue에 없으면 \n",
    "                visited[y] = True\n",
    "                queue.append(y)\n",
    "                hist.append(y)\n",
    "                \n",
    "    return hist\n",
    "\n",
    "print(len(bfs(adj))-1)"
   ]
  },
  {
   "cell_type": "markdown",
   "metadata": {},
   "source": [
    "### 11724. 연결 요소의 개수 "
   ]
  },
  {
   "cell_type": "code",
   "execution_count": 40,
   "metadata": {
    "tags": []
   },
   "outputs": [],
   "source": [
    "N, M = map(int, input().split())\n",
    "\n",
    "adj = [[] for _ in range(N + 1)]\n",
    "visited = [False] * (N + 1)\n",
    "\n",
    "for _ in range(M):\n",
    "    u, v = map(int, input().split())\n",
    "    adj[u].append(v)\n",
    "    adj[v].append(u)"
   ]
  },
  {
   "cell_type": "code",
   "execution_count": 41,
   "metadata": {},
   "outputs": [
    {
     "output_type": "execute_result",
     "data": {
      "text/plain": "[[], [2, 5], [1, 5, 4, 3], [4, 2], [3, 6, 5, 2], [2, 1, 4], [4]]"
     },
     "metadata": {},
     "execution_count": 41
    }
   ],
   "source": [
    "adj"
   ]
  },
  {
   "cell_type": "code",
   "execution_count": 42,
   "metadata": {},
   "outputs": [],
   "source": [
    "count = 0"
   ]
  },
  {
   "cell_type": "code",
   "execution_count": 43,
   "metadata": {
    "tags": []
   },
   "outputs": [
    {
     "output_type": "stream",
     "name": "stdout",
     "text": "1\n"
    }
   ],
   "source": [
    "def dfs(current) : \n",
    "    visited[current] = True\n",
    "    for node in adj[current] : \n",
    "        if visited[node] == False : # 방문한 적이 없으면 \n",
    "            dfs(node) # dfs 호출 \n",
    "\n",
    "for V in range(1, N+1) : \n",
    "    if not visited[V] : \n",
    "        dfs(V)\n",
    "        count += 1 \n",
    "    \n",
    "print(count)"
   ]
  },
  {
   "cell_type": "code",
   "execution_count": null,
   "metadata": {},
   "outputs": [],
   "source": [
    "import sys\n",
    "sys.setrecursionlimit(10**6) \n",
    "\n",
    "N, M = map(int, sys.stdin.readline().split())\n",
    "\n",
    "adj = [[] for _ in range(N + 1)]\n",
    "visited = [False] * (N + 1)\n",
    "\n",
    "for _ in range(M):\n",
    "    u, v = map(int, sys.stdin.readline().split())\n",
    "    adj[u].append(v)\n",
    "    adj[v].append(u)\n",
    "    \n",
    "count = 0\n",
    "\n",
    "def dfs(current) : \n",
    "    visited[current] = True\n",
    "    for node in adj[current] : \n",
    "        if visited[node] == False : # 방문한 적이 없으면 \n",
    "            dfs(node) # dfs 호출 \n",
    "\n",
    "for V in range(1, N+1) : \n",
    "    if not visited[V] : \n",
    "        dfs(V)\n",
    "        count += 1 \n",
    "    \n",
    "print(count)"
   ]
  },
  {
   "cell_type": "markdown",
   "metadata": {},
   "source": [
    "### 5567. 결혼식"
   ]
  },
  {
   "cell_type": "code",
   "execution_count": null,
   "metadata": {},
   "outputs": [],
   "source": [
    "6\n",
    "5\n",
    "1 2\n",
    "1 3\n",
    "3 4\n",
    "2 3\n",
    "4 5\n",
    "\n",
    "# output : 3 "
   ]
  },
  {
   "cell_type": "code",
   "execution_count": null,
   "metadata": {},
   "outputs": [],
   "source": [
    "N, M = int(input()), int(input())\n",
    "\n",
    "adj = [[] for _ in range(N + 1)]\n",
    "dist = [0] * (N+1)\n",
    "\n",
    "for _ in range(M):\n",
    "    u, v = map(int, input().split())\n",
    "    adj[u].append(v)\n",
    "    adj[v].append(u)\n",
    "    \n",
    "def bfs(root) : \n",
    "    queue = [root] \n",
    "    dist[root] = 1\n",
    "\n",
    "    while queue : \n",
    "        current = queue.pop(0) \n",
    "        \n",
    "        for node in adj[current] :\n",
    "            if dist[node] == 0 : \n",
    "                queue.append(node)\n",
    "                dist[node] = dist[current] + 1\n",
    "                \n",
    "bfs(1)\n",
    "final = []\n",
    "for idx, d in enumerate(dist) : \n",
    "    if d == 1 or d == 2 : \n",
    "        final.extend(adj[idx])\n",
    "        \n",
    "print(len(list(set(final)))-1)"
   ]
  },
  {
   "cell_type": "markdown",
   "metadata": {},
   "source": [
    "### 1012. 유기농 배추"
   ]
  },
  {
   "cell_type": "code",
   "execution_count": null,
   "metadata": {},
   "outputs": [],
   "source": [
    "# 2차원이 되면 이 점에서 인접한 노드는 상하좌우 ! \n",
    "# 보드가 1이면 지렁이 있는 곳 0으로 바꾸기 \n",
    "\n",
    "# 상하좌우 \n",
    "dx = [1, -1, 0, 0] # 아래 위 \n",
    "dy = [0, 0, 1, -1] # 오른쪽 왼쪽 \n",
    "\n",
    "\n",
    "def dfs(x,y) : \n",
    "  board[x][y] = 0"
   ]
  },
  {
   "cell_type": "code",
   "execution_count": 52,
   "metadata": {},
   "outputs": [],
   "source": [
    "T = int(input())\n",
    "M, N, K = map(int, input().split())\n",
    "\n",
    "adj = [[0]*M for _ in range(N)]\n",
    "for _ in range(K):\n",
    "    u, v = map(int, input().split())\n",
    "    adj[v][u] = 1 "
   ]
  },
  {
   "cell_type": "code",
   "execution_count": 53,
   "metadata": {},
   "outputs": [
    {
     "output_type": "execute_result",
     "data": {
      "text/plain": "[[1, 1, 0, 0, 0, 0, 0, 0, 0, 0],\n [0, 1, 0, 0, 0, 0, 0, 0, 0, 0],\n [0, 0, 0, 0, 1, 0, 0, 0, 0, 0],\n [0, 0, 0, 0, 1, 0, 0, 0, 0, 0],\n [0, 0, 1, 1, 0, 0, 0, 1, 1, 1],\n [0, 0, 0, 0, 1, 0, 0, 1, 1, 1],\n [0, 0, 0, 0, 0, 0, 0, 1, 1, 1],\n [0, 0, 0, 0, 0, 0, 0, 0, 0, 0]]"
     },
     "metadata": {},
     "execution_count": 53
    }
   ],
   "source": [
    "adj"
   ]
  },
  {
   "cell_type": "code",
   "execution_count": 54,
   "metadata": {},
   "outputs": [],
   "source": [
    "dx = [1, -1, 0, 0] \n",
    "dy = [0, 0, 1, -1] \n",
    "count = 0 \n",
    "\n",
    "def dfs(x,y) : \n",
    "    adj[x][y] = 0\n",
    "    for i in range(4): \n",
    "        row = x + dx[i]\n",
    "        col = y + dy[i]\n",
    "\n",
    "        if (0 <= col < M) and (0 <= row < N):\n",
    "            if adj[row][col] == 1 : \n",
    "                dfs(row, col)"
   ]
  },
  {
   "cell_type": "code",
   "execution_count": 55,
   "metadata": {
    "tags": []
   },
   "outputs": [],
   "source": [
    "for v in range(N) : \n",
    "    for u in range(M) : \n",
    "        if adj[v][u] == 1 : \n",
    "            dfs(v,u)\n",
    "            count += 1 "
   ]
  },
  {
   "cell_type": "code",
   "execution_count": 56,
   "metadata": {},
   "outputs": [
    {
     "output_type": "execute_result",
     "data": {
      "text/plain": "5"
     },
     "metadata": {},
     "execution_count": 56
    }
   ],
   "source": [
    "count"
   ]
  },
  {
   "cell_type": "code",
   "execution_count": null,
   "metadata": {},
   "outputs": [],
   "source": [
    "import sys\n",
    "sys.setrecursionlimit(10**6) \n",
    "\n",
    "T = int(input())\n",
    "for _ in range(T) : \n",
    "    M, N, K = map(int, sys.stdin.readline().split())\n",
    "\n",
    "    adj = [[0]*M for _ in range(N)]\n",
    "    for _ in range(K):\n",
    "        u, v = map(int, sys.stdin.readline().split())\n",
    "        adj[v][u] = 1 \n",
    "        \n",
    "    dx = [1, -1, 0, 0] \n",
    "    dy = [0, 0, 1, -1] \n",
    "    count = 0 \n",
    "\n",
    "    def dfs(x,y) : \n",
    "        adj[x][y] = 0\n",
    "        for i in range(4): \n",
    "            row = x + dx[i]\n",
    "            col = y + dy[i]\n",
    "\n",
    "            if (0 <= col < M) and (0 <= row < N):\n",
    "                if adj[row][col] == 1 : \n",
    "                    dfs(row, col)\n",
    "                    \n",
    "    for v in range(N) : \n",
    "        for u in range(M) : \n",
    "            if adj[v][u] == 1 : \n",
    "                dfs(v,u)\n",
    "                count += 1 \n",
    "                \n",
    "    print(count)"
   ]
  },
  {
   "cell_type": "markdown",
   "metadata": {},
   "source": [
    "### 7562. 나이트의 이동 "
   ]
  },
  {
   "cell_type": "code",
   "execution_count": null,
   "metadata": {},
   "outputs": [],
   "source": [
    "3\n",
    "8\n",
    "0 0\n",
    "7 0\n",
    "100\n",
    "0 0\n",
    "30 50\n",
    "10\n",
    "1 1\n",
    "1 1"
   ]
  },
  {
   "cell_type": "code",
   "execution_count": 128,
   "metadata": {},
   "outputs": [],
   "source": [
    "T, N = int(input()), int(input())\n",
    "x, y = map(int, input().split())\n",
    "x2, y2 = map(int, input().split())"
   ]
  },
  {
   "cell_type": "code",
   "execution_count": 130,
   "metadata": {
    "tags": []
   },
   "outputs": [
    {
     "output_type": "stream",
     "name": "stdout",
     "text": "3 8 (0, 0) (7, 0)\n"
    }
   ],
   "source": [
    "print(T, N, (x,y), (x2,y2))"
   ]
  },
  {
   "cell_type": "code",
   "execution_count": 131,
   "metadata": {},
   "outputs": [],
   "source": [
    "board = [[0]*N for _ in range(N)]"
   ]
  },
  {
   "cell_type": "code",
   "execution_count": 132,
   "metadata": {},
   "outputs": [],
   "source": [
    "count = 0 \n",
    "\n",
    "def dfs(row, col, count) : \n",
    "    count += 1 \n",
    "\n",
    "    way = [[-2,  1], [-2, -1], [ 2,  1], [ 2, -1], \n",
    "           [-1,  2], [-1, -2], [ 1,  2], [ 1, -2]]\n",
    "\n",
    "    for w in way: \n",
    "        new = [row + w[0], col + w[1]] \n",
    "\n",
    "        if (0 <= new[0] < N) and (0 <= new[1] < N):\n",
    "            if not (new[0] == x2 and new[1] == y2) :  \n",
    "                dfs(new[0], new[1], count)    "
   ]
  },
  {
   "cell_type": "code",
   "execution_count": 133,
   "metadata": {},
   "outputs": [
    {
     "output_type": "error",
     "ename": "RecursionError",
     "evalue": "maximum recursion depth exceeded in comparison",
     "traceback": [
      "\u001b[1;31m---------------------------------------------------------------------------\u001b[0m",
      "\u001b[1;31mRecursionError\u001b[0m                            Traceback (most recent call last)",
      "\u001b[1;32m<ipython-input-133-e236bdddf6d1>\u001b[0m in \u001b[0;36m<module>\u001b[1;34m\u001b[0m\n\u001b[1;32m----> 1\u001b[1;33m \u001b[0mdfs\u001b[0m\u001b[1;33m(\u001b[0m\u001b[0mx\u001b[0m\u001b[1;33m,\u001b[0m\u001b[0my\u001b[0m\u001b[1;33m,\u001b[0m\u001b[1;36m0\u001b[0m\u001b[1;33m)\u001b[0m\u001b[1;33m\u001b[0m\u001b[1;33m\u001b[0m\u001b[0m\n\u001b[0m",
      "\u001b[1;32m<ipython-input-132-b5d0afa35ea0>\u001b[0m in \u001b[0;36mdfs\u001b[1;34m(row, col, count)\u001b[0m\n\u001b[0;32m     12\u001b[0m         \u001b[1;32mif\u001b[0m \u001b[1;33m(\u001b[0m\u001b[1;36m0\u001b[0m \u001b[1;33m<=\u001b[0m \u001b[0mnew\u001b[0m\u001b[1;33m[\u001b[0m\u001b[1;36m0\u001b[0m\u001b[1;33m]\u001b[0m \u001b[1;33m<\u001b[0m \u001b[0mN\u001b[0m\u001b[1;33m)\u001b[0m \u001b[1;32mand\u001b[0m \u001b[1;33m(\u001b[0m\u001b[1;36m0\u001b[0m \u001b[1;33m<=\u001b[0m \u001b[0mnew\u001b[0m\u001b[1;33m[\u001b[0m\u001b[1;36m1\u001b[0m\u001b[1;33m]\u001b[0m \u001b[1;33m<\u001b[0m \u001b[0mN\u001b[0m\u001b[1;33m)\u001b[0m\u001b[1;33m:\u001b[0m\u001b[1;33m\u001b[0m\u001b[1;33m\u001b[0m\u001b[0m\n\u001b[0;32m     13\u001b[0m             \u001b[1;32mif\u001b[0m \u001b[1;32mnot\u001b[0m \u001b[1;33m(\u001b[0m\u001b[0mnew\u001b[0m\u001b[1;33m[\u001b[0m\u001b[1;36m0\u001b[0m\u001b[1;33m]\u001b[0m \u001b[1;33m==\u001b[0m \u001b[0mx2\u001b[0m \u001b[1;32mand\u001b[0m \u001b[0mnew\u001b[0m\u001b[1;33m[\u001b[0m\u001b[1;36m1\u001b[0m\u001b[1;33m]\u001b[0m \u001b[1;33m==\u001b[0m \u001b[0my2\u001b[0m\u001b[1;33m)\u001b[0m \u001b[1;33m:\u001b[0m\u001b[1;33m\u001b[0m\u001b[1;33m\u001b[0m\u001b[0m\n\u001b[1;32m---> 14\u001b[1;33m                 \u001b[0mdfs\u001b[0m\u001b[1;33m(\u001b[0m\u001b[0mnew\u001b[0m\u001b[1;33m[\u001b[0m\u001b[1;36m0\u001b[0m\u001b[1;33m]\u001b[0m\u001b[1;33m,\u001b[0m \u001b[0mnew\u001b[0m\u001b[1;33m[\u001b[0m\u001b[1;36m1\u001b[0m\u001b[1;33m]\u001b[0m\u001b[1;33m,\u001b[0m \u001b[0mcount\u001b[0m\u001b[1;33m)\u001b[0m\u001b[1;33m\u001b[0m\u001b[1;33m\u001b[0m\u001b[0m\n\u001b[0m",
      "... last 1 frames repeated, from the frame below ...\n",
      "\u001b[1;32m<ipython-input-132-b5d0afa35ea0>\u001b[0m in \u001b[0;36mdfs\u001b[1;34m(row, col, count)\u001b[0m\n\u001b[0;32m     12\u001b[0m         \u001b[1;32mif\u001b[0m \u001b[1;33m(\u001b[0m\u001b[1;36m0\u001b[0m \u001b[1;33m<=\u001b[0m \u001b[0mnew\u001b[0m\u001b[1;33m[\u001b[0m\u001b[1;36m0\u001b[0m\u001b[1;33m]\u001b[0m \u001b[1;33m<\u001b[0m \u001b[0mN\u001b[0m\u001b[1;33m)\u001b[0m \u001b[1;32mand\u001b[0m \u001b[1;33m(\u001b[0m\u001b[1;36m0\u001b[0m \u001b[1;33m<=\u001b[0m \u001b[0mnew\u001b[0m\u001b[1;33m[\u001b[0m\u001b[1;36m1\u001b[0m\u001b[1;33m]\u001b[0m \u001b[1;33m<\u001b[0m \u001b[0mN\u001b[0m\u001b[1;33m)\u001b[0m\u001b[1;33m:\u001b[0m\u001b[1;33m\u001b[0m\u001b[1;33m\u001b[0m\u001b[0m\n\u001b[0;32m     13\u001b[0m             \u001b[1;32mif\u001b[0m \u001b[1;32mnot\u001b[0m \u001b[1;33m(\u001b[0m\u001b[0mnew\u001b[0m\u001b[1;33m[\u001b[0m\u001b[1;36m0\u001b[0m\u001b[1;33m]\u001b[0m \u001b[1;33m==\u001b[0m \u001b[0mx2\u001b[0m \u001b[1;32mand\u001b[0m \u001b[0mnew\u001b[0m\u001b[1;33m[\u001b[0m\u001b[1;36m1\u001b[0m\u001b[1;33m]\u001b[0m \u001b[1;33m==\u001b[0m \u001b[0my2\u001b[0m\u001b[1;33m)\u001b[0m \u001b[1;33m:\u001b[0m\u001b[1;33m\u001b[0m\u001b[1;33m\u001b[0m\u001b[0m\n\u001b[1;32m---> 14\u001b[1;33m                 \u001b[0mdfs\u001b[0m\u001b[1;33m(\u001b[0m\u001b[0mnew\u001b[0m\u001b[1;33m[\u001b[0m\u001b[1;36m0\u001b[0m\u001b[1;33m]\u001b[0m\u001b[1;33m,\u001b[0m \u001b[0mnew\u001b[0m\u001b[1;33m[\u001b[0m\u001b[1;36m1\u001b[0m\u001b[1;33m]\u001b[0m\u001b[1;33m,\u001b[0m \u001b[0mcount\u001b[0m\u001b[1;33m)\u001b[0m\u001b[1;33m\u001b[0m\u001b[1;33m\u001b[0m\u001b[0m\n\u001b[0m",
      "\u001b[1;31mRecursionError\u001b[0m: maximum recursion depth exceeded in comparison"
     ]
    }
   ],
   "source": [
    "dfs(x,y,0)"
   ]
  },
  {
   "cell_type": "markdown",
   "metadata": {},
   "source": [
    "### 2644. 촌수 계산"
   ]
  },
  {
   "cell_type": "code",
   "execution_count": null,
   "metadata": {},
   "outputs": [],
   "source": [
    "import sys\n",
    "sys.setrecursionlimit(10**6) \n",
    "\n",
    "n = int(input())\n",
    "p1, p2 = map(int, sys.stdin.readline().split())\n",
    "m = int(input())\n",
    "\n",
    "adj = [[] for _ in range(n+1)]\n",
    "\n",
    "for _ in range(m):\n",
    "    u, v = map(int, sys.stdin.readline().split())\n",
    "    adj[u].append(v)\n",
    "    \n",
    "def dfs(current, level) :     \n",
    "    visited[current] = level\n",
    "    level += 1\n",
    "    for node in adj[current] : \n",
    "        if visited[node] == 0 :\n",
    "            visited[node] = level \n",
    "            dfs(node, level) \n",
    "            \n",
    "def bfs(root) : \n",
    "    visited[root] = 1 \n",
    "    queue = [root] \n",
    "    while queue : \n",
    "        current = queue.pop(0) \n",
    "        bfs_list.append(current)\n",
    "        for node in adj[current] :\n",
    "            if visited[node] == 0 : \n",
    "                queue.append(node)\n",
    "                visited[node] = 1 \n",
    "                \n",
    "tree_d, tree_b = dict(), dict()  \n",
    "for i in range(1, n+1) : \n",
    "    visited = [0] * (n+1)\n",
    "    dfs(i, 1)\n",
    "    tree_d[i] = visited\n",
    "    \n",
    "    visited = [0] * (n+1)\n",
    "    bfs_list = []\n",
    "    bfs(i)\n",
    "    tree_b[i] = bfs_list\n",
    "    \n",
    "answer = []\n",
    "for node, edge in tree_b.items() : \n",
    "    if p1 in edge and p2 in edge : \n",
    "        answer.append((tree_d[node][p1] - 1) + (tree_d[node][p2] - 1))\n",
    "\n",
    "if len(answer) == 0 : \n",
    "    answer = [-1]\n",
    "        \n",
    "print(min(answer))"
   ]
  },
  {
   "cell_type": "markdown",
   "metadata": {},
   "source": [
    "### 1707. 이분 그래프 "
   ]
  },
  {
   "cell_type": "markdown",
   "metadata": {},
   "source": [
    "### 1967. 트리의 지름 "
   ]
  },
  {
   "cell_type": "markdown",
   "metadata": {},
   "source": [
    "### 9466. 텀 프로젝트 "
   ]
  },
  {
   "cell_type": "code",
   "execution_count": null,
   "metadata": {},
   "outputs": [],
   "source": [
    "def solution(begin, target, words) : \n",
    "    answer = 0 \n",
    "    d = dict() \n",
    "    d[begin] = 0 \n",
    "    que = [begin]\n",
    "\n",
    "    while que : \n",
    "        cur = que.pop(0) # queue에서 가장 앞에꺼 빼서 체크 \n",
    "        if cur == target : # 만약 target이랑 같으면 \n",
    "            answer = d[cur] # 해당 answer 리턴\n",
    "            break\n",
    "\n",
    "        for word in words : \n",
    "            cnt = 0 \n",
    "            for i in range(len(word)) : \n",
    "                if word[i] != cur[i] : # 만약 단어가 다르면 \n",
    "                    cnt += 1 \n",
    "            if cnt == 1 : # 단어가 다를 때 \n",
    "                if not word in d : # 단어가 거리계산 dictionary에 없으면 \n",
    "                    d[word] = d[cur] + 1 \n",
    "                    que.append(word) # queue에 넣어서 단어 체크 \n",
    "\n",
    "    \n",
    "    return answer "
   ]
  }
 ]
}