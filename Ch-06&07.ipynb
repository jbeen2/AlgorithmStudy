{
 "cells": [
  {
   "cell_type": "markdown",
   "metadata": {},
   "source": [
    "# 2020.07.26"
   ]
  },
  {
   "cell_type": "markdown",
   "metadata": {},
   "source": [
    "## 6장 : 문자열 조작"
   ]
  },
  {
   "cell_type": "markdown",
   "metadata": {},
   "source": [
    "### 125. Valid Palindrome"
   ]
  },
  {
   "cell_type": "markdown",
   "metadata": {},
   "source": [
    "* Input: \"A man, a plan, a canal: Panama\"\n",
    "* Output: true"
   ]
  },
  {
   "cell_type": "code",
   "execution_count": null,
   "metadata": {},
   "outputs": [],
   "source": [
    "class Solution:\n",
    "    def isPalindrome(self, s: str) -> bool:\n",
    "        import re \n",
    "        \n",
    "        s = s.lower()\n",
    "        s = re.sub('[^a-zA-Z0-9]','',s)\n",
    "        \n",
    "        return s == s[::-1]"
   ]
  },
  {
   "cell_type": "markdown",
   "metadata": {},
   "source": [
    "### 344. Reverse String    "
   ]
  },
  {
   "cell_type": "markdown",
   "metadata": {},
   "source": [
    "* Input: [\"h\",\"e\",\"l\",\"l\",\"o\"]\n",
    "* Output: [\"o\",\"l\",\"l\",\"e\",\"h\"]"
   ]
  },
  {
   "cell_type": "code",
   "execution_count": null,
   "metadata": {},
   "outputs": [],
   "source": [
    "class Solution:\n",
    "    def reverseString(self, s: List[str]) -> None:\n",
    "        \"\"\"\n",
    "        Do not return anything, modify s in-place instead.\n",
    "        \"\"\"\n",
    "        \n",
    "        s.reverse()"
   ]
  },
  {
   "cell_type": "markdown",
   "metadata": {},
   "source": [
    "### 937. Reorder Data in Log Files "
   ]
  },
  {
   "cell_type": "markdown",
   "metadata": {},
   "source": [
    "* Input: logs = [\"dig1 8 1 5 1\",\"let1 art can\",\"dig2 3 6\",\"let2 own kit dig\",\"let3 art zero\"]\n",
    "* Output: [\"let1 art can\",\"let3 art zero\",\"let2 own kit dig\",\"dig1 8 1 5 1\",\"dig2 3 6\"]"
   ]
  },
  {
   "cell_type": "code",
   "execution_count": 106,
   "metadata": {},
   "outputs": [],
   "source": [
    "logs = [\"a1 9 2 3 1\",\"g1 act car\",\"zo4 4 7\",\"ab1 off key dog\",\"a8 act zoo\",\"a2 act car\"]"
   ]
  },
  {
   "cell_type": "code",
   "execution_count": null,
   "metadata": {},
   "outputs": [],
   "source": [
    "class Solution:\n",
    "    def reorderLogFiles(self, logs: List[str]) -> List[str]:\n",
    "        letterlog, letterlog2, digitlog, unique = [], [], [], []\n",
    "\n",
    "        for log in logs: \n",
    "            try: \n",
    "                if isinstance(int(log.split()[1]), int) : \n",
    "                    digitlog.append(log)\n",
    "            except: \n",
    "                letterlog.append(log)\n",
    "\n",
    "\n",
    "        check = sorted([\" \".join(letter.split()[1:]) for letter in letterlog])\n",
    "        letterid = sorted([letter.split()[0] for letter in letterlog])\n",
    "        \n",
    "        \n",
    "        for ch in check : \n",
    "            for lid in letterid : \n",
    "                for i in range(len(letterlog)) : \n",
    "                    if letterlog[i].startswith(lid) and letterlog[i].endswith(ch) : \n",
    "                        letterlog2.append(letterlog[i])     \n",
    "\n",
    "                        \n",
    "        for letter in letterlog2 : \n",
    "            if letter not in unique : \n",
    "                unique.append(letter)\n",
    "\n",
    "        \n",
    "        return unique+digitlog"
   ]
  },
  {
   "cell_type": "markdown",
   "metadata": {},
   "source": [
    "### 819. Most Common Word "
   ]
  },
  {
   "cell_type": "markdown",
   "metadata": {},
   "source": [
    "* Input: \n",
    "    paragraph = \"Bob hit a ball, the hit BALL flew far after it was hit.\"\n",
    "    banned = [\"hit\"]\n",
    "* Output: \"ball\"\n",
    "* Explanation: \n",
    "    \"hit\" occurs 3 times, but it is a banned word.\n",
    "    \"ball\" occurs twice (and no other word does), so it is the most frequent non-banned word in the paragraph. \n",
    "    Note that words in the paragraph are not case sensitive,\n",
    "    that punctuation is ignored (even if adjacent to words, such as \"ball,\"), \n",
    "    and that \"hit\" isn't the answer even though it occurs more because it is banned."
   ]
  },
  {
   "cell_type": "code",
   "execution_count": null,
   "metadata": {},
   "outputs": [],
   "source": [
    "class Solution:\n",
    "    def mostCommonWord(self, paragraph: str, banned: List[str]) -> str:\n",
    "        import re\n",
    "        from collections import Counter\n",
    "        \n",
    "        paragraph = paragraph.lower()\n",
    "        paragraph = re.sub('[^a-zA-Z0-9]',' ',paragraph)\n",
    "        \n",
    "        Counter = Counter(paragraph.split())   \n",
    "        most_occur = Counter.most_common(len(banned)+1)\n",
    "        \n",
    "        output = [key for key, value in most_occur]\n",
    "        result = [element for element in output if element not in banned]\n",
    "        \n",
    "        return result[0]"
   ]
  },
  {
   "cell_type": "markdown",
   "metadata": {},
   "source": [
    "### 5. Longest Palindromic Substring    "
   ]
  },
  {
   "cell_type": "markdown",
   "metadata": {},
   "source": [
    "Example 1 \n",
    "* Input: \"babad\"\n",
    "* Output: \"bab\"\n",
    "\n",
    "\n",
    "Example 2 \n",
    "* Input: \"cbbd\"\n",
    "* Output: \"bb\""
   ]
  },
  {
   "cell_type": "code",
   "execution_count": null,
   "metadata": {},
   "outputs": [],
   "source": [
    "class Solution:\n",
    "    def longestPalindrome(self, s: str) -> str:"
   ]
  },
  {
   "cell_type": "code",
   "execution_count": null,
   "metadata": {},
   "outputs": [],
   "source": [
    "# 점화식 : O(n^2)\n",
    "class Solution:\n",
    "    def longestPalindrome(self, s: str) -> str:\n",
    "        n = len(s)\n",
    "        \n",
    "        dp = [[0 for i in range(n)] for j in range(n)]\n",
    "        ans = \"\"\n",
    "        \n",
    "        # 'a'일 때, 즉 글자의 개수가 1개일 때 가장 긴 펠린드롬의 길이는 1\n",
    "        for i in range(n):\n",
    "            dp[i][i] = 1\n",
    "            ans = s[i]\n",
    "        # 'aa'일 때, 즉 글자의 개수가 2일 때 두 글자가 같다면, 가장 긴 펠린드롬의 길이는 2\n",
    "        for i in range(n-1):\n",
    "            if s[i]==s[i+1]:\n",
    "                dp[i][i+1] = 1 # 펠린드롬인지 아닌지를 체크 \n",
    "                ans = s[i] + s[i+1]\n",
    "        # \"baab\"에서 \"aa\" 가 펠린드롬일 때 양 옆이 같으면 펠린드롬\n",
    "        for d in range(2, n):\n",
    "            for i in range(n-d):\n",
    "                if dp[i+1][i+d-1] and s[i]==s[i+d]:\n",
    "                    dp[i][i+d] = 1\n",
    "                    ans = s[i:i+d+1]\n",
    "            \n",
    "        return ans"
   ]
  },
  {
   "cell_type": "code",
   "execution_count": null,
   "metadata": {},
   "outputs": [],
   "source": [
    "# 투포인터 \n",
    "class Solution:\n",
    "    def longestPalindrome(self, s: str) -> str:\n",
    "        \n",
    "        def expand(left, right):\n",
    "            while left>=0 and right<=len(s) and s[left]==s[right-1]:\n",
    "                left-=1\n",
    "                right+=1\n",
    "            print(s[left+1:right-1], left, right)\n",
    "            return s[left+1:right-1]\n",
    "        \n",
    "        if len(s) < 2 or s==s[::-1]:\n",
    "            return s\n",
    "        ans = ''\n",
    "        for i in range(len(s)-1):\n",
    "            print(ans)\n",
    "            ans = max(ans, expand(i, i+1), expand(i, i+2), key=len)\n",
    "            \n",
    "        return ans"
   ]
  },
  {
   "cell_type": "markdown",
   "metadata": {},
   "source": [
    "### 49. Group Anagrams"
   ]
  },
  {
   "cell_type": "markdown",
   "metadata": {},
   "source": [
    "* Input: [\"eat\", \"tea\", \"tan\", \"ate\", \"nat\", \"bat\"],\n",
    "* Output:[\n",
    "  [\"ate\",\"eat\",\"tea\"],\n",
    "  [\"nat\",\"tan\"],\n",
    "  [\"bat\"]\n",
    "]"
   ]
  },
  {
   "cell_type": "code",
   "execution_count": 18,
   "metadata": {},
   "outputs": [],
   "source": [
    "strs = [\"eat\", \"tea\", \"tan\", \"ate\", \"nat\", \"bat\"]"
   ]
  },
  {
   "cell_type": "code",
   "execution_count": 14,
   "metadata": {},
   "outputs": [],
   "source": [
    "import collections"
   ]
  },
  {
   "cell_type": "code",
   "execution_count": null,
   "metadata": {},
   "outputs": [],
   "source": [
    "class Solution(object):\n",
    "    def groupAnagrams(self, strs):\n",
    "        ans = collections.defaultdict(list)\n",
    "        for s in strs:\n",
    "            ans[tuple(sorted(s))].append(s) # sorted(\"eat\") : ['a', 'e', 't'] / {('a', 'e', 't') : 'eat', 'tea', 'ate'}\n",
    "        return ans.values()"
   ]
  },
  {
   "cell_type": "markdown",
   "metadata": {},
   "source": [
    "## 7장 : 배열"
   ]
  },
  {
   "cell_type": "markdown",
   "metadata": {},
   "source": [
    "### 1. Two Sum "
   ]
  },
  {
   "cell_type": "markdown",
   "metadata": {},
   "source": [
    "* Given nums = [2, 7, 11, 15], target = 9,\n",
    "\n",
    "* Because nums[0] + nums[1] = 2 + 7 = 9,\n",
    "    return [0, 1]."
   ]
  },
  {
   "cell_type": "code",
   "execution_count": 1,
   "metadata": {},
   "outputs": [],
   "source": [
    "nums = [2, 7, 11, 15]\n",
    "target = 9"
   ]
  },
  {
   "cell_type": "code",
   "execution_count": null,
   "metadata": {},
   "outputs": [],
   "source": [
    "# 굉장히 간단한 문제였음 ^_^ ...\n",
    "class Solution:\n",
    "    def twoSum(self, nums: List[int], target: int) -> List[int]: \n",
    "        for i in range(len(nums)) : \n",
    "            for j in range(i+1, len(nums)) : \n",
    "                if nums[i] + nums[j] == target : \n",
    "                    return([i,j])"
   ]
  },
  {
   "cell_type": "code",
   "execution_count": null,
   "metadata": {},
   "outputs": [],
   "source": [
    "# MemoryError \n",
    "class Solution:\n",
    "    def twoSum(self, nums: List[int], target: int) -> List[int]:        \n",
    "        from itertools import combinations\n",
    "        sumlist = [comb[0]+comb[1] for comb in list(combinations(nums, 2))]\n",
    "        idx = [i for i in range(len(nums))]\n",
    "        \n",
    "        result = sumlist.index(target)\n",
    "        \n",
    "        return list(list(combinations(idx, 2))[result])"
   ]
  },
  {
   "cell_type": "code",
   "execution_count": null,
   "metadata": {},
   "outputs": [],
   "source": [
    "# Time Limit Exceeded\n",
    "class Solution:\n",
    "    def twoSum(self, nums: List[int], target: int) -> List[int]: \n",
    "        \n",
    "        def comb(lst, n) : \n",
    "            ret = [] \n",
    "            if n > len(lst) : \n",
    "                return ret \n",
    "\n",
    "            if n == 1 : \n",
    "                for i in lst : \n",
    "                    ret.append([i])\n",
    "\n",
    "            elif n > 1: \n",
    "                for i in range(len(lst)-n+1) : \n",
    "                    for temp in comb(lst[i+1:], n-1) : \n",
    "                        ret.append([lst[i]]+temp)\n",
    "\n",
    "            return ret\n",
    "        \n",
    "        \n",
    "        combsum = [sum(c) for c in comb(nums,2)]\n",
    "        idx = [i for i in range(len(nums))]\n",
    "        idxoutput = comb(idx,2)\n",
    "        \n",
    "        result = combsum.index(target)\n",
    "        \n",
    "        return idxoutput[result]"
   ]
  },
  {
   "cell_type": "markdown",
   "metadata": {},
   "source": [
    "### 121. Best Time to Buy and Sell Stock"
   ]
  },
  {
   "cell_type": "markdown",
   "metadata": {},
   "source": [
    "* Input: [7,1,5,3,6,4], Output: 5\n",
    "* Input: [7,6,4,3,1], Output: 0"
   ]
  },
  {
   "cell_type": "code",
   "execution_count": null,
   "metadata": {},
   "outputs": [],
   "source": [
    "class Solution:\n",
    "    def maxProfit(self, prices: List[int]) -> int:\n",
    "        if len(prices) != 0 : \n",
    "            if prices == sorted(prices, reverse=True) : \n",
    "                return 0 \n",
    "            else : \n",
    "                profit = []\n",
    "                for i in range(len(prices)-1) : \n",
    "                    if prices[i] < max(prices[i+1:]) : \n",
    "                        profit.append(max(prices[i+1:]) - prices[i])\n",
    "                    else : \n",
    "                        profit.append(0)\n",
    "                return max(profit)\n",
    "\n",
    "        else : \n",
    "            return 0"
   ]
  },
  {
   "cell_type": "markdown",
   "metadata": {},
   "source": [
    "### 561. Array Partition I"
   ]
  },
  {
   "cell_type": "markdown",
   "metadata": {},
   "source": [
    "* Input: [1,4,3,2]\n",
    "* Output: 4\n",
    "* Explanation: n is 2, and the maximum sum of pairs is 4 = min(1, 2) + min(3, 4)."
   ]
  },
  {
   "cell_type": "code",
   "execution_count": null,
   "metadata": {},
   "outputs": [],
   "source": [
    "class Solution:\n",
    "    def arrayPairSum(self, nums: List[int]) -> int:\n",
    "        result = 0 \n",
    "        numlist = sorted(nums)\n",
    "        for i in range(len(nums)//2) : \n",
    "            result += numlist[i*2] # 여기에 sorted(nums) 넣으면 시간초과 \n",
    "            \n",
    "        return result "
   ]
  },
  {
   "cell_type": "markdown",
   "metadata": {},
   "source": [
    "### 238. Product of Array Except Self"
   ]
  },
  {
   "cell_type": "markdown",
   "metadata": {},
   "source": [
    "* Input:  [1,2,3,4]\n",
    "* Output: [24,12,8,6]"
   ]
  },
  {
   "cell_type": "code",
   "execution_count": null,
   "metadata": {},
   "outputs": [],
   "source": [
    "# Wrong Answer\n",
    "class Solution:\n",
    "    def productExceptSelf(self, nums: List[int]) -> List[int]:\n",
    "        cumprod = []\n",
    "\n",
    "        for i in range(len(nums)) : \n",
    "            init = 1\n",
    "            for num in nums : \n",
    "\n",
    "                if nums.index(num) != i : # 0이 두개라서... 결과가 이상하게 나오는 문제가 발생하는듯 ? \n",
    "                    init *= num  \n",
    "                    cumprod.append(init)\n",
    "        \n",
    "        return [cumprod[len(cumprod)//len(nums)*i-1] for i in range(1,len(nums)+1)]"
   ]
  },
  {
   "cell_type": "code",
   "execution_count": null,
   "metadata": {},
   "outputs": [],
   "source": [
    "# Time Limit Exceeded\n",
    "class Solution:\n",
    "    def productExceptSelf(self, nums: List[int]) -> List[int]:\n",
    "        cumprod = []\n",
    "        nums2 = [(i, num) for i, num in enumerate(nums)]\n",
    "\n",
    "        for i in range(len(nums)) : \n",
    "            init = 1 \n",
    "\n",
    "            for (idx, num) in nums2 : \n",
    "                if idx != i : \n",
    "                    init *= num \n",
    "            cumprod.append(init)\n",
    "                    \n",
    "        return cumprod"
   ]
  },
  {
   "cell_type": "code",
   "execution_count": null,
   "metadata": {},
   "outputs": [],
   "source": [
    "class Solution:\n",
    "    def productExceptSelf(self, nums: List[int]) -> List[int]:\n",
    "        \n",
    "        left, right = [0]*len(nums), [0]*len(nums)\n",
    "        left[0], right[0] = 1, 1\n",
    "        \n",
    "        nums2 = list(reversed(nums))\n",
    "\n",
    "        R = 1\n",
    "        for i in range(len(nums)-1) : \n",
    "            R *= nums[i]\n",
    "            left[i+1] = R \n",
    "        \n",
    "        S = 1 \n",
    "        for j in range(len(nums2) - 1) : \n",
    "            S *= nums2[j]\n",
    "            right[j+1] = S\n",
    "            \n",
    "        right = list(reversed(right))\n",
    "            \n",
    "        return [l*r for l, r in zip(left,right)]"
   ]
  },
  {
   "cell_type": "markdown",
   "metadata": {},
   "source": [
    "### 42. Trapping Rain Water"
   ]
  },
  {
   "cell_type": "markdown",
   "metadata": {},
   "source": [
    "* Input: [0,1,0,2,1,0,1,3,2,1,2,1]\n",
    "* Output: 6"
   ]
  },
  {
   "cell_type": "markdown",
   "metadata": {},
   "source": [
    "### 15. 3Sum"
   ]
  },
  {
   "cell_type": "markdown",
   "metadata": {},
   "source": [
    "* Given array nums = [-1, 0, 1, 2, -1, -4],\n",
    "\n",
    "* A solution set is:\n",
    "[\n",
    "  [-1, 0, 1],\n",
    "  [-1, -1, 2]\n",
    "]"
   ]
  },
  {
   "cell_type": "code",
   "execution_count": 185,
   "metadata": {},
   "outputs": [],
   "source": [
    "nums = [-1, 0, 1, 2, -1, -4]"
   ]
  },
  {
   "cell_type": "code",
   "execution_count": null,
   "metadata": {},
   "outputs": [],
   "source": [
    "# Time Limit Exceeded\n",
    "class Solution:\n",
    "    def threeSum(self, nums: List[int]) -> List[List[int]]:\n",
    "        numlist = []\n",
    "    \n",
    "        for i in range(len(nums)) : \n",
    "            for j in range(i+1, len(nums)) : \n",
    "                for k in range(j+1, len(nums)) : \n",
    "                    if nums[i] + nums[j] + nums[k] == 0 : \n",
    "                        numlist.append([nums[i],nums[j],nums[k]]) \n",
    "                        \n",
    "        \n",
    "        newnums = []\n",
    "        for num in numlist : \n",
    "            num = sorted(num)\n",
    "            if num not in newnums : \n",
    "                newnums.append(num)\n",
    "                \n",
    "        return newnums"
   ]
  },
  {
   "cell_type": "markdown",
   "metadata": {},
   "source": [
    "### Programmers : 완전탐색 > 소수 찾기"
   ]
  },
  {
   "cell_type": "markdown",
   "metadata": {},
   "source": [
    "* 17 : 3\n",
    "* 011 : 2"
   ]
  },
  {
   "cell_type": "code",
   "execution_count": 376,
   "metadata": {},
   "outputs": [
    {
     "name": "stdin",
     "output_type": "stream",
     "text": [
      " 011\n"
     ]
    }
   ],
   "source": [
    "numbers = str(input())"
   ]
  },
  {
   "cell_type": "code",
   "execution_count": 385,
   "metadata": {},
   "outputs": [],
   "source": [
    "# test case 2/12 ... ^^ ;; \n",
    "import itertools \n",
    "\n",
    "def solution(numbers):\n",
    "    papers = [num for num in numbers]\n",
    "    \n",
    "    comb = []\n",
    "    for i in range(len(papers)+1):\n",
    "        for subset in itertools.permutations(papers , i):\n",
    "            comb.append(list(subset))\n",
    "            \n",
    "            \n",
    "    comblist = []\n",
    "    for c in comb : \n",
    "        if len(c) != 0 :\n",
    "            comblist.append(int(''.join(c)))\n",
    "    \n",
    "    comblist = sorted(list(set(comblist)))   \n",
    "    comblist = [comb for comb in comblist if (comb != 0 and comb != 1) ]\n",
    "\n",
    "    \n",
    "    for comb in comblist : \n",
    "        if comb > 2 : \n",
    "            for i in range(2, comb) : \n",
    "                if comb % i == 0 : \n",
    "                    comblist.remove(comb)\n",
    "                    break\n",
    "                     \n",
    "    \n",
    "    return len(comblist)"
   ]
  },
  {
   "cell_type": "code",
   "execution_count": 386,
   "metadata": {},
   "outputs": [
    {
     "data": {
      "text/plain": [
       "2"
      ]
     },
     "execution_count": 386,
     "metadata": {},
     "output_type": "execute_result"
    }
   ],
   "source": [
    "solution(numbers)"
   ]
  }
 ],
 "metadata": {
  "kernelspec": {
   "display_name": "Python 3",
   "language": "python",
   "name": "python3"
  },
  "language_info": {
   "codemirror_mode": {
    "name": "ipython",
    "version": 3
   },
   "file_extension": ".py",
   "mimetype": "text/x-python",
   "name": "python",
   "nbconvert_exporter": "python",
   "pygments_lexer": "ipython3",
   "version": "3.6.8rc1"
  }
 },
 "nbformat": 4,
 "nbformat_minor": 4
}
