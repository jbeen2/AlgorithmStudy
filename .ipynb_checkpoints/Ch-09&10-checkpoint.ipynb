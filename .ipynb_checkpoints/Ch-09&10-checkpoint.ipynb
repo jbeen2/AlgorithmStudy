{
 "cells": [
  {
   "cell_type": "markdown",
   "metadata": {},
   "source": [
    "# 2020.08.02"
   ]
  },
  {
   "cell_type": "markdown",
   "metadata": {},
   "source": [
    "## 9장 : 스택, 큐"
   ]
  },
  {
   "cell_type": "markdown",
   "metadata": {},
   "source": [
    "### 20. Valid Parentheses"
   ]
  },
  {
   "cell_type": "markdown",
   "metadata": {},
   "source": [
    "* Input: \"()\"\n",
    "* Output: true\n",
    "\n",
    "\n",
    "* Input: \"()[]{}\"\n",
    "* Output: true\n",
    "\n",
    "\n",
    "* Input: \"(]\"\n",
    "* Output: false\n",
    "\n",
    "\n",
    "* Input: \"([)]\"\n",
    "* Output: false\n",
    "\n",
    "\n",
    "* Input: \"{[]}\"\n",
    "* Output: true"
   ]
  },
  {
   "cell_type": "code",
   "execution_count": null,
   "metadata": {},
   "outputs": [],
   "source": [
    "class Solution(object):\n",
    "    def isValid(self, s):\n",
    "        while \"()\" in s or \"{}\" in s or '[]' in s:\n",
    "            s = s.replace(\"()\", \"\").replace('{}', \"\").replace('[]', \"\")\n",
    "        return s == ''"
   ]
  },
  {
   "cell_type": "markdown",
   "metadata": {},
   "source": [
    "### 316. Remove Duplicate Letters"
   ]
  },
  {
   "cell_type": "markdown",
   "metadata": {},
   "source": [
    "* Input: \"bcabc\"\n",
    "* Output: \"abc\"\n",
    "\n",
    "\n",
    "* Input: \"cbacdcbc\"\n",
    "* Output: \"acdb\""
   ]
  },
  {
   "cell_type": "code",
   "execution_count": null,
   "metadata": {},
   "outputs": [],
   "source": [
    "class Solution:\n",
    "    def removeDuplicateLetters(self, s: str) -> str:\n",
    "        "
   ]
  },
  {
   "cell_type": "markdown",
   "metadata": {},
   "source": [
    "### 739. Daily Temperatures"
   ]
  },
  {
   "cell_type": "markdown",
   "metadata": {},
   "source": [
    "* input : T = [73, 74, 75, 71, 69, 72, 76, 73]\n",
    "* output : [1, 1, 4, 2, 1, 1, 0, 0]"
   ]
  },
  {
   "cell_type": "code",
   "execution_count": null,
   "metadata": {},
   "outputs": [],
   "source": [
    "# Time Limit Exceeded\n",
    "class Solution:\n",
    "    def dailyTemperatures(self, T: List[int]) -> List[int] :\n",
    "        warm = []\n",
    "\n",
    "        for i in range(len(T)) : \n",
    "            nextT = T[i+1:]\n",
    "            check = [x>T[i] for x in nextT]\n",
    "\n",
    "            if True in check : \n",
    "                warm.append(check.index(True)+1) \n",
    "            else : \n",
    "                warm.append(0)\n",
    "\n",
    "        return warm "
   ]
  },
  {
   "cell_type": "code",
   "execution_count": null,
   "metadata": {},
   "outputs": [],
   "source": [
    "class Solution:\n",
    "    def dailyTemperatures(self, T: List[int]) -> List[int] :\n",
    "        ans = [0] * len(T)\n",
    "        stack = []\n",
    "\n",
    "        for i, t in enumerate(T):\n",
    "            while stack and T[stack[-1]] < t:\n",
    "                cur = stack.pop()\n",
    "                ans[cur] = i - cur\n",
    "            stack.append(i)\n",
    "\n",
    "        return ans"
   ]
  },
  {
   "cell_type": "markdown",
   "metadata": {},
   "source": [
    "### 225. Implement Stack using Queues"
   ]
  },
  {
   "cell_type": "markdown",
   "metadata": {},
   "source": [
    "* push(x) -- Push element x onto stack.\n",
    "* pop() -- Removes the element on top of the stack.\n",
    "* top() -- Get the top element.\n",
    "* empty() -- Return whether the stack is empty."
   ]
  },
  {
   "cell_type": "code",
   "execution_count": null,
   "metadata": {},
   "outputs": [],
   "source": [
    "class MyStack:\n",
    "\n",
    "    def __init__(self):\n",
    "        \"\"\"\n",
    "        Initialize your data structure here.\n",
    "        \"\"\"\n",
    "        \n",
    "        self.stack = []\n",
    "        \n",
    "\n",
    "    def push(self, x: int) -> None:\n",
    "        \"\"\"\n",
    "        Push element x onto stack.\n",
    "        \"\"\"\n",
    "        \n",
    "        self.stack.append(x)\n",
    "        \n",
    "\n",
    "    def pop(self) -> int:\n",
    "        \"\"\"\n",
    "        Removes the element on top of the stack and returns that element.\n",
    "        \"\"\"\n",
    "        \n",
    "        return self.stack.pop()\n",
    "        \n",
    "\n",
    "    def top(self) -> int:\n",
    "        \"\"\"\n",
    "        Get the top element.\n",
    "        \"\"\"\n",
    "        \n",
    "        return self.stack[-1]\n",
    "        \n",
    "\n",
    "    def empty(self) -> bool:\n",
    "        \"\"\"\n",
    "        Returns whether the stack is empty.\n",
    "        \"\"\"\n",
    "        \n",
    "        return len(self.stack) == 0\n",
    "        \n",
    "\n",
    "\n",
    "# Your MyStack object will be instantiated and called as such:\n",
    "# obj = MyStack()\n",
    "# obj.push(x)\n",
    "# param_2 = obj.pop()\n",
    "# param_3 = obj.top()\n",
    "# param_4 = obj.empty()"
   ]
  },
  {
   "cell_type": "markdown",
   "metadata": {},
   "source": [
    "### 232. Implement Queue using Stacks"
   ]
  },
  {
   "cell_type": "markdown",
   "metadata": {},
   "source": [
    "* push(x) -- Push element x to the back of queue.\n",
    "* pop() -- Removes the element from in front of queue.\n",
    "* peek() -- Get the front element.\n",
    "* empty() -- Return whether the queue is empty."
   ]
  },
  {
   "cell_type": "code",
   "execution_count": null,
   "metadata": {},
   "outputs": [],
   "source": [
    "class MyQueue:\n",
    "\n",
    "    def __init__(self):\n",
    "        \"\"\"\n",
    "        Initialize your data structure here.\n",
    "        \"\"\"\n",
    "        \n",
    "        self.queue = []\n",
    "        \n",
    "\n",
    "    def push(self, x: int) -> None:\n",
    "        \"\"\"\n",
    "        Push element x to the back of queue.\n",
    "        \"\"\"\n",
    "        \n",
    "        self.queue.append(x)\n",
    "        \n",
    "\n",
    "    def pop(self) -> int:\n",
    "        \"\"\"\n",
    "        Removes the element from in front of queue and returns that element.\n",
    "        \"\"\"\n",
    "        \n",
    "        return self.queue.pop(0)\n",
    "        \n",
    "\n",
    "    def peek(self) -> int:\n",
    "        \"\"\"\n",
    "        Get the front element.\n",
    "        \"\"\"\n",
    "        \n",
    "        return self.queue[0]\n",
    "        \n",
    "\n",
    "    def empty(self) -> bool:\n",
    "        \"\"\"\n",
    "        Returns whether the queue is empty.\n",
    "        \"\"\"\n",
    "        \n",
    "        return len(self.queue) == 0\n",
    "\n",
    "\n",
    "# Your MyQueue object will be instantiated and called as such:\n",
    "# obj = MyQueue()\n",
    "# obj.push(x)\n",
    "# param_2 = obj.pop()\n",
    "# param_3 = obj.peek()\n",
    "# param_4 = obj.empty()"
   ]
  },
  {
   "cell_type": "markdown",
   "metadata": {},
   "source": [
    "### 622. Design Circular Queue"
   ]
  },
  {
   "cell_type": "markdown",
   "metadata": {},
   "source": [
    "* MyCircularQueue(k): Constructor, set the size of the queue to be k.\n",
    "* Front: Get the front item from the queue. If the queue is empty, return -1.\n",
    "* Rear: Get the last item from the queue. If the queue is empty, return -1.\n",
    "* enQueue(value): Insert an element into the circular queue. Return true if the operation is successful.\n",
    "* deQueue(): Delete an element from the circular queue. Return true if the operation is successful.\n",
    "* isEmpty(): Checks whether the circular queue is empty or not.\n",
    "* isFull(): Checks whether the circular queue is full or not."
   ]
  },
  {
   "cell_type": "code",
   "execution_count": null,
   "metadata": {},
   "outputs": [],
   "source": [
    "class MyCircularQueue:\n",
    "\n",
    "    def __init__(self, k: int):\n",
    "        \"\"\"\n",
    "        Initialize your data structure here. Set the size of the queue to be k.\n",
    "        \"\"\"\n",
    "        \n",
    "        self.container = [None for _ in range(k)]\n",
    "        self.len = k\n",
    "        self.head = 0\n",
    "        self.tail = 0\n",
    "        \n",
    "\n",
    "        \n",
    "    def enQueue(self, value: int) -> bool:\n",
    "        \"\"\"\n",
    "        Insert an element into the circular queue. Return true if the operation is successful.\n",
    "        \"\"\"\n",
    "\n",
    "        if self.container[self.tail] == None:\n",
    "            self.container[self.tail] = value\n",
    "            self.tail = (self.tail + 1) % self.len\n",
    "            return True\n",
    "        else:\n",
    "            return False        \n",
    "        \n",
    "        \n",
    "\n",
    "    def deQueue(self) -> bool:\n",
    "        \"\"\"\n",
    "        Delete an element from the circular queue. Return true if the operation is successful.\n",
    "        \"\"\"\n",
    "        \n",
    "        if self.container[self.head] == None : \n",
    "            return False  \n",
    "        else : \n",
    "            self.q[self.front] = None\n",
    "            self.head = (self.head + 1) % self.len\n",
    "            return True \n",
    "        \n",
    "\n",
    "        \n",
    "    def Front(self) -> int:\n",
    "        \"\"\"\n",
    "        Get the front item from the queue.\n",
    "        \"\"\"\n",
    "        \n",
    "        return -1 if self.container[self.head] == None else self.container[self.head]\n",
    "        \n",
    "        \n",
    "\n",
    "    def Rear(self) -> int:\n",
    "        \"\"\"\n",
    "        Get the last item from the queue.\n",
    "        \"\"\"\n",
    "        \n",
    "        return -1 if self.container[self.tail - 1] == None else self.container[self.tail - 1]\n",
    "\n",
    "    \n",
    "\n",
    "    def isEmpty(self) -> bool:\n",
    "        \"\"\"\n",
    "        Checks whether the circular queue is empty or not.\n",
    "        \"\"\"\n",
    "        \n",
    "        return self.head == self.tail and self.container[self.head] == None\n",
    "        \n",
    "        \n",
    "\n",
    "    def isFull(self) -> bool:\n",
    "        \"\"\"\n",
    "        Checks whether the circular queue is full or not.\n",
    "        \"\"\"\n",
    "        \n",
    "        return self.head == self.tail and self.container[self.head] != None\n",
    "        \n",
    "\n",
    "# Your MyCircularQueue object will be instantiated and called as such:\n",
    "# obj = MyCircularQueue(k)\n",
    "# param_1 = obj.enQueue(value)\n",
    "# param_2 = obj.deQueue()\n",
    "# param_3 = obj.Front()\n",
    "# param_4 = obj.Rear()\n",
    "# param_5 = obj.isEmpty()\n",
    "# param_6 = obj.isFull()"
   ]
  },
  {
   "cell_type": "markdown",
   "metadata": {},
   "source": [
    "## 10장 : 데크, 우선순위 큐"
   ]
  },
  {
   "cell_type": "markdown",
   "metadata": {},
   "source": [
    "### 641. Design Circular Deque"
   ]
  },
  {
   "cell_type": "markdown",
   "metadata": {},
   "source": [
    "* MyCircularDeque(k): Constructor, set the size of the deque to be k.\n",
    "* insertFront(): Adds an item at the front of Deque. Return true if the operation is successful.\n",
    "* insertLast(): Adds an item at the rear of Deque. Return true if the operation is successful.\n",
    "* deleteFront(): Deletes an item from the front of Deque. Return true if the operation is successful.\n",
    "* deleteLast(): Deletes an item from the rear of Deque. Return true if the operation is successful.\n",
    "* getFront(): Gets the front item from the Deque. If the deque is empty, return -1.\n",
    "* getRear(): Gets the last item from Deque. If the deque is empty, return -1.\n",
    "* isEmpty(): Checks whether Deque is empty or not. \n",
    "* isFull(): Checks whether Deque is full or not."
   ]
  },
  {
   "cell_type": "code",
   "execution_count": null,
   "metadata": {},
   "outputs": [],
   "source": [
    "class MyCircularDeque:\n",
    "\n",
    "    def __init__(self, k: int):\n",
    "        \"\"\"\n",
    "        Initialize your data structure here. Set the size of the deque to be k.\n",
    "        \"\"\"\n",
    "        \n",
    "        self._size = 0\n",
    "        self._front, self._rear = 0, 0\n",
    "        self._capacity = k\n",
    "        self._data = [-1] * k\n",
    "        \n",
    "\n",
    "        \n",
    "    def insertFront(self, value: int) -> bool:\n",
    "        \"\"\"\n",
    "        Adds an item at the front of Deque. Return true if the operation is successful.\n",
    "        \"\"\"\n",
    "        \n",
    "        if self.isFull():\n",
    "            return False\n",
    "        if self.isEmpty():\n",
    "            self._data[self._front] = value\n",
    "        else:\n",
    "            self._front = (self._front - 1) % self._capacity\n",
    "            self._data[self._front] = value\n",
    "        self._size += 1\n",
    "        return True\n",
    "        \n",
    "        \n",
    "\n",
    "    def insertLast(self, value: int) -> bool:\n",
    "        \"\"\"\n",
    "        Adds an item at the rear of Deque. Return true if the operation is successful.\n",
    "        \"\"\"\n",
    "\n",
    "        if self.isFull():\n",
    "            return False\n",
    "        if self.isEmpty():\n",
    "            self._data[self._rear] = value\n",
    "        else:\n",
    "            self._rear = (self._rear + 1) % self._capacity\n",
    "            self._data[self._rear] = value\n",
    "        self._size += 1\n",
    "        return True        \n",
    "        \n",
    "\n",
    "        \n",
    "    def deleteFront(self) -> bool:\n",
    "        \"\"\"\n",
    "        Deletes an item from the front of Deque. Return true if the operation is successful.\n",
    "        \"\"\"\n",
    "        \n",
    "        if self.isEmpty():\n",
    "            return False\n",
    "        self._data[self._front] = -1\n",
    "        self._front = (self._front + 1) % self._capacity\n",
    "        self._size -= 1\n",
    "        if self.isEmpty():\n",
    "            self._rear = self._front\n",
    "        return True\n",
    "        \n",
    "        \n",
    "\n",
    "    def deleteLast(self) -> bool:\n",
    "        \"\"\"\n",
    "        Deletes an item from the rear of Deque. Return true if the operation is successful.\n",
    "        \"\"\"\n",
    "        \n",
    "        if self.isEmpty():\n",
    "            return False\n",
    "        self._data[self._rear] = -1\n",
    "        self._rear = (self._rear - 1) % self._capacity\n",
    "        self._size -= 1\n",
    "        if self.isEmpty():\n",
    "            self._front = self._rear\n",
    "        return True\n",
    "        \n",
    "\n",
    "        \n",
    "    def getFront(self) -> int:\n",
    "        \"\"\"\n",
    "        Get the front item from the deque.\n",
    "        \"\"\"\n",
    "        \n",
    "        return self._data[self._front]\n",
    "        \n",
    "\n",
    "        \n",
    "    def getRear(self) -> int:\n",
    "        \"\"\"\n",
    "        Get the last item from the deque.\n",
    "        \"\"\"\n",
    "        \n",
    "        return self._data[self._rear]\n",
    "        \n",
    "        \n",
    "\n",
    "    def isEmpty(self) -> bool:\n",
    "        \"\"\"\n",
    "        Checks whether the circular deque is empty or not.\n",
    "        \"\"\"\n",
    "        \n",
    "        return self._size == 0\n",
    "    \n",
    "        \n",
    "\n",
    "    def isFull(self) -> bool:\n",
    "        \"\"\"\n",
    "        Checks whether the circular deque is full or not.\n",
    "        \"\"\"\n",
    "        \n",
    "        return self._size == self._capacity\n",
    "        \n",
    "\n",
    "\n",
    "# Your MyCircularDeque object will be instantiated and called as such:\n",
    "# obj = MyCircularDeque(k)\n",
    "# param_1 = obj.insertFront(value)\n",
    "# param_2 = obj.insertLast(value)\n",
    "# param_3 = obj.deleteFront()\n",
    "# param_4 = obj.deleteLast()\n",
    "# param_5 = obj.getFront()\n",
    "# param_6 = obj.getRear()\n",
    "# param_7 = obj.isEmpty()\n",
    "# param_8 = obj.isFull()"
   ]
  },
  {
   "cell_type": "markdown",
   "metadata": {},
   "source": [
    "### 23. Merge k Sorted Lists"
   ]
  },
  {
   "cell_type": "markdown",
   "metadata": {},
   "source": [
    "* Input:\n",
    "[\n",
    "  1->4->5,\n",
    "  1->3->4,\n",
    "  2->6\n",
    "]\n",
    "* Output: 1->1->2->3->4->4->5->6"
   ]
  },
  {
   "cell_type": "code",
   "execution_count": null,
   "metadata": {},
   "outputs": [],
   "source": [
    "# 우선순위 큐 : heapq "
   ]
  },
  {
   "cell_type": "code",
   "execution_count": 50,
   "metadata": {},
   "outputs": [
    {
     "ename": "SyntaxError",
     "evalue": "invalid syntax (<ipython-input-50-99cf7c006cf6>, line 1)",
     "output_type": "error",
     "traceback": [
      "\u001b[1;36m  File \u001b[1;32m\"<ipython-input-50-99cf7c006cf6>\"\u001b[1;36m, line \u001b[1;32m1\u001b[0m\n\u001b[1;33m    lists = [ 1->4->5, 1->3->4, 2->6 ]\u001b[0m\n\u001b[1;37m                ^\u001b[0m\n\u001b[1;31mSyntaxError\u001b[0m\u001b[1;31m:\u001b[0m invalid syntax\n"
     ]
    }
   ],
   "source": [
    "lists = [ 1->4->5, 1->3->4, 2->6 ]"
   ]
  },
  {
   "cell_type": "markdown",
   "metadata": {},
   "source": [
    "## 프로그래머스 : 주식가격 "
   ]
  },
  {
   "cell_type": "markdown",
   "metadata": {},
   "source": [
    "* prices : [1,2,3,2,3]\n",
    "* return : [4,3,1,1,0]"
   ]
  },
  {
   "cell_type": "code",
   "execution_count": 43,
   "metadata": {},
   "outputs": [],
   "source": [
    "prices = [1,2,3,2,3]\n",
    "queue = [] \n",
    "\n",
    "for i in range(len(prices)-1) : \n",
    "    if prices[i] <= min(prices[i+1:]) : \n",
    "        queue.append(len(prices[i+1:]))\n",
    "    else: \n",
    "        queue.append(prices.index(max(prices[i+1:])) - i + 1)\n",
    "\n",
    "queue.append(0)"
   ]
  },
  {
   "cell_type": "code",
   "execution_count": 44,
   "metadata": {},
   "outputs": [
    {
     "data": {
      "text/plain": [
       "[4, 3, 1, 1, 0]"
      ]
     },
     "execution_count": 44,
     "metadata": {},
     "output_type": "execute_result"
    }
   ],
   "source": [
    "queue"
   ]
  }
 ],
 "metadata": {
  "kernelspec": {
   "display_name": "Python 3",
   "language": "python",
   "name": "python3"
  },
  "language_info": {
   "codemirror_mode": {
    "name": "ipython",
    "version": 3
   },
   "file_extension": ".py",
   "mimetype": "text/x-python",
   "name": "python",
   "nbconvert_exporter": "python",
   "pygments_lexer": "ipython3",
   "version": "3.6.8rc1"
  }
 },
 "nbformat": 4,
 "nbformat_minor": 4
}
