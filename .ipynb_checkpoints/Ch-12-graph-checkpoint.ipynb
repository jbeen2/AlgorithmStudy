{
 "metadata": {
  "language_info": {
   "codemirror_mode": {
    "name": "ipython",
    "version": 3
   },
   "file_extension": ".py",
   "mimetype": "text/x-python",
   "name": "python",
   "nbconvert_exporter": "python",
   "pygments_lexer": "ipython3",
   "version": 3
  },
  "orig_nbformat": 2,
  "kernelspec": {
   "name": "python_defaultSpec_1596977543102",
   "display_name": "Python 3.6.8 64-bit ('jbeen': virtualenv)"
  }
 },
 "nbformat": 4,
 "nbformat_minor": 2,
 "cells": [
  {
   "cell_type": "markdown",
   "metadata": {},
   "source": [
    "# 2020.08.16"
   ]
  },
  {
   "cell_type": "markdown",
   "metadata": {},
   "source": [
    "## 백준"
   ]
  },
  {
   "cell_type": "markdown",
   "metadata": {},
   "source": [
    "### 1260. DFS와 BFS"
   ]
  },
  {
   "cell_type": "code",
   "execution_count": 21,
   "metadata": {
    "tags": []
   },
   "outputs": [
    {
     "output_type": "stream",
     "name": "stdout",
     "text": "1 2 4 3\n1 2 3 4\n"
    }
   ],
   "source": [
    "import sys\n",
    "sys.setrecursionlimit(10**6) \n",
    "\n",
    "N, M, V = map(int, input().split()) # map(int, sys.stdin.readline().split()) # 한 줄을 읽는다 \n",
    "adj = [[] for _ in range(N+1)] # 인접리스트 \n",
    "\n",
    "for _ in range(M) : \n",
    "\tu, v = map(int, input().split()) # map(int, sys.stdin.readline().split())\n",
    "\tadj[u].append(v) # u의 인접한 노드는 v \n",
    "\tadj[v].append(u) # 양방향이라서 해주는거 ! \n",
    "\n",
    "adj = [sorted(a) for a in adj]\n",
    "\n",
    "dfs_list = [] # 방문하는 순서대로 여기에 정점 출력 \n",
    "bfs_list = [] \n",
    "\n",
    "def dfs(current) : \n",
    "  visited[current] = 1 \n",
    "  dfs_list.append(current)\n",
    "  for node in adj[current] : \n",
    "    if visited[node] == 0 : # 방문한 적이 없으면 \n",
    "      dfs(node) #dfs 호출 \n",
    "\n",
    "def bfs(root) : \n",
    "  visited[root] = 1 \n",
    "  queue = [root] \n",
    "\n",
    "  while queue : \n",
    "    current = queue.pop(0) \n",
    "    bfs_list.append(current)\n",
    "    for node in adj[current] :\n",
    "      if visited[node] == 0 and current not in queue : \n",
    "        queue.append(node)\n",
    "        visited[node] = 1 \n",
    "\n",
    "\n",
    "visited = [0] * (N+1) \n",
    "dfs(V)\n",
    "print(*dfs_list)\n",
    "\n",
    "visited = [0] * (N+1)\n",
    "bfs(V) \n",
    "print(*bfs_list)"
   ]
  },
  {
   "cell_type": "markdown",
   "metadata": {},
   "source": [
    "### 2606. 바이러스\n"
   ]
  },
  {
   "cell_type": "code",
   "execution_count": 1,
   "metadata": {
    "tags": []
   },
   "outputs": [
    {
     "output_type": "stream",
     "name": "stdout",
     "text": "4\n"
    }
   ],
   "source": [
    "# dfs\n",
    "import sys\n",
    "sys.setrecursionlimit(10**6) \n",
    "\n",
    "N, M = int(input()), int(input())\n",
    "\n",
    "adj = [[] for _ in range(N + 1)]\n",
    "visited = [False] * (N + 1)\n",
    "\n",
    "for _ in range(M):\n",
    "    u, v = map(int, input().split())\n",
    "    adj[u].append(v)\n",
    "    adj[v].append(u)\n",
    "    \n",
    "dfs_list = [] # 방문하는 순서대로 여기에 정점 출력 \n",
    "\n",
    "def dfs(current) : \n",
    "    visited[current] = True\n",
    "    dfs_list.append(current)\n",
    "    for node in adj[current] : \n",
    "        if visited[node] == 0 : # 방문한 적이 없으면 \n",
    "            dfs(node) #dfs 호출 \n",
    "            \n",
    "dfs(1)\n",
    "print(len(dfs_list)-1)"
   ]
  },
  {
   "cell_type": "code",
   "execution_count": null,
   "metadata": {},
   "outputs": [],
   "source": [
    "# bfs\n",
    "N, M = int(input()), int(input())\n",
    "\n",
    "adj = [[] for _ in range(N + 1)]\n",
    "visited = [False] * (N + 1)\n",
    "\n",
    "for _ in range(M):\n",
    "    u, v = map(int, input().split())\n",
    "    adj[u].append(v)\n",
    "    adj[v].append(u)\n",
    "\n",
    "def bfs(adj) : \n",
    "    queue = [1] # starting point \n",
    "    hist = [1]\n",
    "    \n",
    "    while queue : \n",
    "        x = queue.pop(0) # 1 \n",
    "        visited[x] = True\n",
    "        \n",
    "        for i in range(len(adj[x])) : # adj[1] = [2,5]\n",
    "            y = adj[x][i] # y = 2부터 탐색 \n",
    "            if not visited[y] and y not in queue : # visited = False이고 queue에 없으면 \n",
    "                visited[y] = True\n",
    "                queue.append(y)\n",
    "                hist.append(y)\n",
    "                \n",
    "    return hist\n",
    "\n",
    "print(len(bfs(adj))-1)"
   ]
  },
  {
   "cell_type": "markdown",
   "metadata": {},
   "source": [
    "### 11724. 연결 요소의 개수 "
   ]
  },
  {
   "cell_type": "code",
   "execution_count": 40,
   "metadata": {
    "tags": []
   },
   "outputs": [],
   "source": [
    "N, M = map(int, input().split())\n",
    "\n",
    "adj = [[] for _ in range(N + 1)]\n",
    "visited = [False] * (N + 1)\n",
    "\n",
    "for _ in range(M):\n",
    "    u, v = map(int, input().split())\n",
    "    adj[u].append(v)\n",
    "    adj[v].append(u)"
   ]
  },
  {
   "cell_type": "code",
   "execution_count": 41,
   "metadata": {},
   "outputs": [
    {
     "output_type": "execute_result",
     "data": {
      "text/plain": "[[], [2, 5], [1, 5, 4, 3], [4, 2], [3, 6, 5, 2], [2, 1, 4], [4]]"
     },
     "metadata": {},
     "execution_count": 41
    }
   ],
   "source": [
    "adj"
   ]
  },
  {
   "cell_type": "code",
   "execution_count": 42,
   "metadata": {},
   "outputs": [],
   "source": [
    "count = 0"
   ]
  },
  {
   "cell_type": "code",
   "execution_count": 43,
   "metadata": {
    "tags": []
   },
   "outputs": [
    {
     "output_type": "stream",
     "name": "stdout",
     "text": "1\n"
    }
   ],
   "source": [
    "def dfs(current) : \n",
    "    visited[current] = True\n",
    "    for node in adj[current] : \n",
    "        if visited[node] == False : # 방문한 적이 없으면 \n",
    "            dfs(node) # dfs 호출 \n",
    "\n",
    "for V in range(1, N+1) : \n",
    "    if not visited[V] : \n",
    "        dfs(V)\n",
    "        count += 1 \n",
    "    \n",
    "print(count)"
   ]
  },
  {
   "cell_type": "markdown",
   "metadata": {},
   "source": [
    "### 5567. 결혼식"
   ]
  },
  {
   "cell_type": "code",
   "execution_count": null,
   "metadata": {},
   "outputs": [],
   "source": [
    "6\n",
    "5\n",
    "1 2\n",
    "1 3\n",
    "3 4\n",
    "2 3\n",
    "4 5\n",
    "\n",
    "# output : 3 "
   ]
  },
  {
   "cell_type": "code",
   "execution_count": null,
   "metadata": {},
   "outputs": [],
   "source": []
  },
  {
   "cell_type": "code",
   "execution_count": null,
   "metadata": {},
   "outputs": [],
   "source": []
  },
  {
   "cell_type": "markdown",
   "metadata": {},
   "source": [
    "### 1012. 유기농 배추"
   ]
  },
  {
   "cell_type": "code",
   "execution_count": null,
   "metadata": {},
   "outputs": [],
   "source": [
    "# 2차원이 되면 이 점에서 인접한 노드는 상하좌우 ! \n",
    "# 보드가 1이면 지렁이 있는 곳 0으로 바꾸기 \n",
    "\n",
    "# 상하좌우 \n",
    "dx = [1, -1, 0, 0]\n",
    "dy = [0, 0, 1, -1]\n",
    "\n",
    "\n",
    "def dfs(x,y) : \n",
    "  board[x][y] = 0"
   ]
  },
  {
   "cell_type": "code",
   "execution_count": null,
   "metadata": {},
   "outputs": [],
   "source": [
    "2\n",
    "10 8 17\n",
    "0 0\n",
    "1 0\n",
    "1 1\n",
    "4 2\n",
    "4 3\n",
    "4 5\n",
    "2 4\n",
    "3 4\n",
    "7 4\n",
    "8 4\n",
    "9 4\n",
    "7 5\n",
    "8 5\n",
    "9 5\n",
    "7 6\n",
    "8 6\n",
    "9 6\n",
    "10 10 1\n",
    "5 5\n",
    "\n",
    "# output : 5 / 1"
   ]
  },
  {
   "cell_type": "code",
   "execution_count": null,
   "metadata": {},
   "outputs": [],
   "source": []
  },
  {
   "cell_type": "markdown",
   "metadata": {},
   "source": [
    "### 7562. 나이트의 이동 "
   ]
  },
  {
   "cell_type": "markdown",
   "metadata": {},
   "source": [
    "### 2644. 촌수 계산"
   ]
  },
  {
   "cell_type": "code",
   "execution_count": null,
   "metadata": {},
   "outputs": [],
   "source": []
  }
 ]
}