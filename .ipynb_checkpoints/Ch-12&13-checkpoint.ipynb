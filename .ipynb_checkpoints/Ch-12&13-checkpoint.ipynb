{
 "cells": [
  {
   "cell_type": "markdown",
   "metadata": {},
   "source": [
    "# 2020.08.09"
   ]
  },
  {
   "cell_type": "markdown",
   "metadata": {},
   "source": [
    "## 프로그래머스 "
   ]
  },
  {
   "cell_type": "markdown",
   "metadata": {},
   "source": [
    "### 1. 완전탐색 > 소수 찾기\n",
    "* 17 : 3\n",
    "* 011 : 2"
   ]
  },
  {
   "cell_type": "code",
   "execution_count": 155,
   "metadata": {},
   "outputs": [],
   "source": [
    "numbers = \"7843\""
   ]
  },
  {
   "cell_type": "code",
   "execution_count": 170,
   "metadata": {},
   "outputs": [],
   "source": [
    "import math\n",
    "import itertools \n",
    "\n",
    "def solution(numbers):\n",
    "    papers = [num for num in numbers]\n",
    "    \n",
    "    comb = []\n",
    "    for i in range(len(papers)+1):\n",
    "        for subset in itertools.permutations(papers , i):\n",
    "            comb.append(list(subset))\n",
    "            \n",
    "            \n",
    "    comblist = []\n",
    "    for c in comb : \n",
    "        if len(c) != 0 :\n",
    "            comblist.append(int(''.join(c)))\n",
    "    \n",
    "    comblist = sorted(list(set(comblist)))   \n",
    "    comblist = [comb for comb in comblist if (comb != 0 and comb != 1) ]\n",
    "    \n",
    "    answer = []\n",
    "    for comb in comblist : \n",
    "        count = 0 \n",
    "        sqrt = int(math.sqrt(comb))\n",
    "        if comb != 0 and comb != 1 : \n",
    "            for i in range(2, sqrt+1) : \n",
    "                if comb % i == 0 :\n",
    "                    count += 1 \n",
    "            if count == 0 :\n",
    "                answer.append(comb)\n",
    "    \n",
    "    return len(answer)"
   ]
  },
  {
   "cell_type": "code",
   "execution_count": 171,
   "metadata": {},
   "outputs": [
    {
     "data": {
      "text/plain": [
       "12"
      ]
     },
     "execution_count": 171,
     "metadata": {},
     "output_type": "execute_result"
    }
   ],
   "source": [
    "solution(numbers)"
   ]
  },
  {
   "cell_type": "code",
   "execution_count": 176,
   "metadata": {},
   "outputs": [
    {
     "name": "stdout",
     "output_type": "stream",
     "text": [
      "4 2\n",
      "8 2\n",
      "38 2\n",
      "48 2\n",
      "74 2\n",
      "84 2\n",
      "348 2\n",
      "378 2\n",
      "387 3\n",
      "438 2\n",
      "478 2\n",
      "734 2\n",
      "748 2\n",
      "784 2\n",
      "837 3\n",
      "847 7\n",
      "874 2\n",
      "3487 11\n",
      "3784 2\n",
      "3874 2\n",
      "4387 41\n",
      "4837 7\n",
      "7348 2\n",
      "7438 2\n",
      "7834 2\n",
      "8347 17\n",
      "8437 11\n",
      "8734 2\n"
     ]
    }
   ],
   "source": [
    "# 왜 안되는지 이유를 모르겠음 ㅜㅜ \n",
    "for comb in comblist : \n",
    "    if comb > 2 : \n",
    "        for i in range(2, comb) : \n",
    "            if comb % i == 0 : \n",
    "                print(comb, i)\n",
    "                comblist.remove(comb)\n",
    "                break"
   ]
  },
  {
   "cell_type": "code",
   "execution_count": 177,
   "metadata": {},
   "outputs": [
    {
     "data": {
      "text/plain": [
       "[3,\n",
       " 7,\n",
       " 34,\n",
       " 37,\n",
       " 43,\n",
       " 47,\n",
       " 73,\n",
       " 78,\n",
       " 83,\n",
       " 87,\n",
       " 347,\n",
       " 374,\n",
       " 384,\n",
       " 437,\n",
       " 473,\n",
       " 483,\n",
       " 487,\n",
       " 738,\n",
       " 743,\n",
       " 783,\n",
       " 834,\n",
       " 843,\n",
       " 873,\n",
       " 3478,\n",
       " 3748,\n",
       " 3847,\n",
       " 4378,\n",
       " 4738,\n",
       " 4783,\n",
       " 4873,\n",
       " 7384,\n",
       " 7483,\n",
       " 7843,\n",
       " 8374,\n",
       " 8473,\n",
       " 8743]"
      ]
     },
     "execution_count": 177,
     "metadata": {},
     "output_type": "execute_result"
    }
   ],
   "source": [
    "comblist # 34 같은 숫자들이 안걸러짐 ... "
   ]
  },
  {
   "cell_type": "markdown",
   "metadata": {},
   "source": [
    "### 2. 스택/큐 > 주식 가격 \n",
    "* prices : [1,2,3,2,3]\n",
    "* return : [4,3,1,1,0]"
   ]
  },
  {
   "cell_type": "code",
   "execution_count": 462,
   "metadata": {},
   "outputs": [],
   "source": [
    "prices = [1,2,3,2,3,3,1]"
   ]
  },
  {
   "cell_type": "code",
   "execution_count": 460,
   "metadata": {},
   "outputs": [],
   "source": [
    "# 시간초과 \n",
    "answer = []\n",
    "\n",
    "while prices : \n",
    "    x = prices.pop(0)\n",
    "    if prices :\n",
    "        if min(prices) >= x : \n",
    "            answer.append(len(prices))\n",
    "        else : \n",
    "            check = [p<x for p in prices]\n",
    "            answer.append(check.index(True)+1)\n",
    "    else : \n",
    "        answer.append(0)"
   ]
  },
  {
   "cell_type": "code",
   "execution_count": 461,
   "metadata": {},
   "outputs": [
    {
     "data": {
      "text/plain": [
       "[6, 5, 1, 3, 2, 1, 0]"
      ]
     },
     "execution_count": 461,
     "metadata": {},
     "output_type": "execute_result"
    }
   ],
   "source": [
    "answer"
   ]
  },
  {
   "cell_type": "code",
   "execution_count": null,
   "metadata": {},
   "outputs": [],
   "source": [
    "def solution(prices): \n",
    "    answer = [] \n",
    "    \n",
    "    for i in range(len(prices)): \n",
    "        check_num = 0 \n",
    "        \n",
    "        for j in range(i+1, len(prices)): \n",
    "            check_num = check_num + 1 \n",
    "            \n",
    "            if prices[i] > prices[j]: \n",
    "                break \n",
    "                \n",
    "        answer.append(check_num) \n",
    "        \n",
    "    return answer"
   ]
  },
  {
   "cell_type": "markdown",
   "metadata": {},
   "source": [
    "## 백준"
   ]
  },
  {
   "cell_type": "markdown",
   "metadata": {},
   "source": [
    "### 1260. DFS와 BFS "
   ]
  },
  {
   "cell_type": "code",
   "execution_count": 275,
   "metadata": {},
   "outputs": [
    {
     "name": "stdin",
     "output_type": "stream",
     "text": [
      " 1000 1 1000\n",
      " 999 1000\n"
     ]
    }
   ],
   "source": [
    "N, M, V = map(int, input().split())\n",
    "\n",
    "adj = [[] for _ in range(N + 1)]\n",
    "visited = [False] * (N + 1)\n",
    "\n",
    "for _ in range(M):\n",
    "    u, v = map(int, input().split())\n",
    "    adj[u].append(v)\n",
    "    adj[v].append(u)"
   ]
  },
  {
   "cell_type": "code",
   "execution_count": 277,
   "metadata": {},
   "outputs": [],
   "source": [
    "adj = [sorted(a) for a in adj]"
   ]
  },
  {
   "cell_type": "code",
   "execution_count": 278,
   "metadata": {},
   "outputs": [],
   "source": [
    "visited[0] = True"
   ]
  },
  {
   "cell_type": "code",
   "execution_count": 279,
   "metadata": {},
   "outputs": [],
   "source": [
    "def bfs(v, adj) : \n",
    "    queue = [v] # starting point \n",
    "    hist = [v]\n",
    "    \n",
    "    while queue : \n",
    "        x = queue.pop(0) # 1 \n",
    "        visited[x] = True\n",
    "        \n",
    "        for i in range(len(adj[x])) : # adj[1] = [2,3,4]\n",
    "            y = adj[x][i] # y = 2부터 탐색 \n",
    "            if not visited[y] and y not in queue : # visited = False이고 queue에 없으면 \n",
    "                visited[y] = True\n",
    "                queue.append(y)\n",
    "                hist.append(y)\n",
    "                \n",
    "    return hist"
   ]
  },
  {
   "cell_type": "code",
   "execution_count": 280,
   "metadata": {},
   "outputs": [
    {
     "data": {
      "text/plain": [
       "[1000, 999]"
      ]
     },
     "execution_count": 280,
     "metadata": {},
     "output_type": "execute_result"
    }
   ],
   "source": [
    "bfs(V, adj)"
   ]
  },
  {
   "cell_type": "markdown",
   "metadata": {},
   "source": [
    "### 11724. 연결 요소의 개수"
   ]
  },
  {
   "cell_type": "markdown",
   "metadata": {},
   "source": [
    "* deque() : https://dongdongfather.tistory.com/72 , 스택처럼 써도 되고 큐처럼 써도 되는 자료 저장 형태 "
   ]
  },
  {
   "cell_type": "code",
   "execution_count": 203,
   "metadata": {},
   "outputs": [
    {
     "name": "stdin",
     "output_type": "stream",
     "text": [
      " 6 8\n",
      " 1 2\n",
      " 2 5\n",
      " 5 1\n",
      " 3 4\n",
      " 4 6\n",
      " 5 4\n",
      " 2 4\n",
      " 2 3\n"
     ]
    }
   ],
   "source": [
    "# 시간초과 \n",
    "N, M = map(int, input().split())\n",
    "edge = [list(map(int, input().split())) for _ in range(M)]"
   ]
  },
  {
   "cell_type": "code",
   "execution_count": 204,
   "metadata": {},
   "outputs": [],
   "source": [
    "graph = {i : [] for i in range(1, N+1)}"
   ]
  },
  {
   "cell_type": "code",
   "execution_count": 205,
   "metadata": {},
   "outputs": [],
   "source": [
    "for node in graph.keys() : \n",
    "    for ed in edge :\n",
    "        if node in ed : \n",
    "            graph[node].extend(ed)"
   ]
  },
  {
   "cell_type": "code",
   "execution_count": 207,
   "metadata": {},
   "outputs": [],
   "source": [
    "for node, edge in graph.items() : \n",
    "    graph[node] = list(set(edge))"
   ]
  },
  {
   "cell_type": "code",
   "execution_count": 208,
   "metadata": {},
   "outputs": [
    {
     "data": {
      "text/plain": [
       "{1: [1, 2, 5],\n",
       " 2: [1, 2, 3, 4, 5],\n",
       " 3: [2, 3, 4],\n",
       " 4: [2, 3, 4, 5, 6],\n",
       " 5: [1, 2, 4, 5],\n",
       " 6: [4, 6]}"
      ]
     },
     "execution_count": 208,
     "metadata": {},
     "output_type": "execute_result"
    }
   ],
   "source": [
    "graph"
   ]
  },
  {
   "cell_type": "code",
   "execution_count": 191,
   "metadata": {},
   "outputs": [],
   "source": [
    "def bfs(graph, start_node):\n",
    "    visit = list()\n",
    "    queue = list()\n",
    "\n",
    "    queue.append(start_node)\n",
    "\n",
    "    while queue:\n",
    "        node = queue.pop(0)\n",
    "        if node not in visit:\n",
    "            visit.append(node)\n",
    "            queue.extend(graph[node])\n",
    "\n",
    "    return visit"
   ]
  },
  {
   "cell_type": "code",
   "execution_count": 216,
   "metadata": {},
   "outputs": [],
   "source": [
    "connect = list()\n",
    "\n",
    "for node in graph.keys() : \n",
    "    connect.append(list(set(bfs(graph, node))))"
   ]
  },
  {
   "cell_type": "code",
   "execution_count": 218,
   "metadata": {},
   "outputs": [],
   "source": [
    "connect2 = list(set([str(c) for c in connect]))"
   ]
  },
  {
   "cell_type": "code",
   "execution_count": 220,
   "metadata": {},
   "outputs": [
    {
     "data": {
      "text/plain": [
       "1"
      ]
     },
     "execution_count": 220,
     "metadata": {},
     "output_type": "execute_result"
    }
   ],
   "source": [
    "len(connect2)"
   ]
  },
  {
   "cell_type": "code",
   "execution_count": 222,
   "metadata": {},
   "outputs": [
    {
     "name": "stdin",
     "output_type": "stream",
     "text": [
      " 6 8\n",
      " 1 2\n",
      " 2 5\n",
      " 5 1\n",
      " 3 4\n",
      " 4 6\n",
      " 5 4\n",
      " 2 4\n",
      " 2 3\n"
     ]
    }
   ],
   "source": [
    "N, M = map(int, input().split())\n",
    "adj = [[] for _ in range(N + 1)]\n",
    "visited = [False] * (N + 1)\n",
    "count = 0\n",
    "\n",
    "for _ in range(M):\n",
    "    u, v = map(int, input().split())\n",
    "    adj[u].append(v)\n",
    "    adj[v].append(u)"
   ]
  },
  {
   "cell_type": "code",
   "execution_count": 223,
   "metadata": {},
   "outputs": [
    {
     "data": {
      "text/plain": [
       "[[], [2, 5], [1, 5, 4, 3], [4, 2], [3, 6, 5, 2], [2, 1, 4], [4]]"
      ]
     },
     "execution_count": 223,
     "metadata": {},
     "output_type": "execute_result"
    }
   ],
   "source": [
    "adj"
   ]
  },
  {
   "cell_type": "code",
   "execution_count": null,
   "metadata": {},
   "outputs": [],
   "source": [
    "import sys\n",
    "sys.setrecursionlimit(10000)\n",
    "\n",
    "def dfs(v):\n",
    "    visited[v] = True\n",
    "    for e in adj[v]:\n",
    "        if not visited[e]:\n",
    "            dfs(e)\n",
    "            \n",
    "N, M = map(int, input().split())\n",
    "adj = [[] for _ in range(N + 1)]\n",
    "visited = [False] * (N + 1)\n",
    "count = 0\n",
    "\n",
    "for _ in range(M):\n",
    "    u, v = map(int, input().split())\n",
    "    adj[u].append(v)\n",
    "    adj[v].append(u)\n",
    "    \n",
    "for j in range(1, N + 1):\n",
    "    if not visited[j]:\n",
    "        dfs(j)\n",
    "        count += 1\n",
    "\n",
    "print(count)"
   ]
  },
  {
   "cell_type": "markdown",
   "metadata": {},
   "source": [
    "### 2606. 바이러스"
   ]
  },
  {
   "cell_type": "code",
   "execution_count": 286,
   "metadata": {},
   "outputs": [
    {
     "name": "stdin",
     "output_type": "stream",
     "text": [
      " 7\n",
      " 6\n"
     ]
    }
   ],
   "source": [
    "N, M = int(input()), int(input())"
   ]
  },
  {
   "cell_type": "code",
   "execution_count": 300,
   "metadata": {},
   "outputs": [
    {
     "name": "stdin",
     "output_type": "stream",
     "text": [
      " 1 2\n",
      " 2 3\n",
      " 1 5\n",
      " 5 2\n",
      " 5 6\n",
      " 4 7\n"
     ]
    }
   ],
   "source": [
    "adj = [[] for _ in range(N + 1)]\n",
    "visited = [False] * (N + 1)\n",
    "\n",
    "for _ in range(M):\n",
    "    u, v = map(int, input().split())\n",
    "    adj[u].append(v)\n",
    "    adj[v].append(u)"
   ]
  },
  {
   "cell_type": "code",
   "execution_count": 312,
   "metadata": {},
   "outputs": [
    {
     "data": {
      "text/plain": [
       "[[], [2, 5], [1, 3, 5], [2], [7], [1, 2, 6], [5], [4]]"
      ]
     },
     "execution_count": 312,
     "metadata": {},
     "output_type": "execute_result"
    }
   ],
   "source": [
    "adj"
   ]
  },
  {
   "cell_type": "code",
   "execution_count": 314,
   "metadata": {},
   "outputs": [],
   "source": [
    "def bfs(adj) : \n",
    "    queue = [1] # starting point \n",
    "    hist = [1]\n",
    "    \n",
    "    while queue : \n",
    "        x = queue.pop(0) # 1 \n",
    "        visited[x] = True\n",
    "        \n",
    "        for i in range(len(adj[x])) : # adj[1] = [2,5]\n",
    "            y = adj[x][i] # y = 2부터 탐색 \n",
    "            if not visited[y] and y not in queue : # visited = False이고 queue에 없으면 \n",
    "                visited[y] = True\n",
    "                queue.append(y)\n",
    "                hist.append(y)\n",
    "                \n",
    "    return hist"
   ]
  },
  {
   "cell_type": "code",
   "execution_count": 315,
   "metadata": {},
   "outputs": [
    {
     "data": {
      "text/plain": [
       "[1, 2, 5, 3, 6]"
      ]
     },
     "execution_count": 315,
     "metadata": {},
     "output_type": "execute_result"
    }
   ],
   "source": [
    "bfs(adj)"
   ]
  },
  {
   "cell_type": "code",
   "execution_count": null,
   "metadata": {},
   "outputs": [],
   "source": [
    "dfs_list = [] # 방문하는 순서대로 여기에 정점 출력 \n",
    "\n",
    "def dfs(current) : \n",
    "    visited[current] = True\n",
    "    dfs_list.append(current)\n",
    "    for node in adj[current] : \n",
    "        if visited[node] == 0 : # 방문한 적이 없으면 \n",
    "            dfs(node) #dfs 호출 \n",
    "            \n",
    "dfs(1)\n",
    "print(len(dfs_list)-1)"
   ]
  },
  {
   "cell_type": "markdown",
   "metadata": {},
   "source": [
    "### 5567. 결혼식"
   ]
  },
  {
   "cell_type": "code",
   "execution_count": null,
   "metadata": {},
   "outputs": [],
   "source": [
    "6\n",
    "5\n",
    "1 2\n",
    "1 3\n",
    "3 4\n",
    "2 3\n",
    "4 5"
   ]
  },
  {
   "cell_type": "code",
   "execution_count": 421,
   "metadata": {},
   "outputs": [
    {
     "name": "stdin",
     "output_type": "stream",
     "text": [
      " 6\n",
      " 5\n"
     ]
    }
   ],
   "source": [
    "N, M = int(input()), int(input())"
   ]
  },
  {
   "cell_type": "code",
   "execution_count": 420,
   "metadata": {},
   "outputs": [
    {
     "name": "stdin",
     "output_type": "stream",
     "text": [
      " 1 2\n",
      " 1 3\n",
      " 3 4\n",
      " 2 3\n",
      " 4 5\n"
     ]
    }
   ],
   "source": [
    "adj = [[] for _ in range(N + 1)]\n",
    "visited = [False] * (N + 1)\n",
    "\n",
    "for _ in range(M):\n",
    "    u, v = map(int, input().split())\n",
    "    adj[u].append(v)\n",
    "    adj[v].append(u)"
   ]
  },
  {
   "cell_type": "code",
   "execution_count": 422,
   "metadata": {},
   "outputs": [
    {
     "data": {
      "text/plain": [
       "[[], [2, 3], [1, 3], [1, 4, 2], [3, 5], [4], []]"
      ]
     },
     "execution_count": 422,
     "metadata": {},
     "output_type": "execute_result"
    }
   ],
   "source": [
    "adj"
   ]
  },
  {
   "cell_type": "code",
   "execution_count": 353,
   "metadata": {},
   "outputs": [],
   "source": [
    "# 틀렸습니다\n",
    "def bfs(adj) : \n",
    "    queue = [1] # starting point \n",
    "    hist = [1]\n",
    "    count = 0\n",
    "    \n",
    "    while queue : \n",
    "        x = queue.pop(0) # 1 \n",
    "        visited[x] = True\n",
    "        \n",
    "        for i in range(len(adj[x])) : # adj[1] = [2,3]\n",
    "            y = adj[x][i] # y = 2부터 탐색 \n",
    "            if not visited[y] and y not in queue : # visited = False이고 queue에 없으면 \n",
    "                visited[y] = True\n",
    "                queue.append(y)\n",
    "                hist.append(y)\n",
    "                \n",
    "        count += 1 \n",
    "        if count == 3 : \n",
    "            break\n",
    "                \n",
    "    return hist"
   ]
  },
  {
   "cell_type": "code",
   "execution_count": 379,
   "metadata": {},
   "outputs": [],
   "source": [
    "def bfs(adj) : \n",
    "    queue = [1] # starting point \n",
    "    level = 0\n",
    "    count = 0\n",
    "    \n",
    "    while queue : \n",
    "        x = queue.pop(0) # 1 \n",
    "        visited[x] = True\n",
    "        \n",
    "        \n",
    "        \n",
    "        for i in range(len(adj[x])) : # adj[1] = [2,3]\n",
    "            y = adj[x][i] # y = 2부터 탐색 \n",
    "            if not visited[y] and y not in queue : # visited = False이고 queue에 없으면 \n",
    "                visited[y] = True\n",
    "                queue.append(y)\n",
    "                count += 1 \n",
    "                \n",
    "        level += 1 \n",
    "        if level == 3 : \n",
    "            break\n",
    "                \n",
    "    return count"
   ]
  },
  {
   "cell_type": "code",
   "execution_count": 380,
   "metadata": {},
   "outputs": [
    {
     "data": {
      "text/plain": [
       "3"
      ]
     },
     "execution_count": 380,
     "metadata": {},
     "output_type": "execute_result"
    }
   ],
   "source": [
    "bfs(adj)"
   ]
  },
  {
   "cell_type": "markdown",
   "metadata": {},
   "source": [
    "## 12장 : 그래프"
   ]
  },
  {
   "cell_type": "markdown",
   "metadata": {},
   "source": [
    "### 200. Number of Islands"
   ]
  },
  {
   "cell_type": "markdown",
   "metadata": {},
   "source": [
    "* Input: grid = [      \n",
    "  [\"1\",\"1\",\"1\",\"1\",\"0\"],         \n",
    "  [\"1\",\"1\",\"0\",\"1\",\"0\"],         \n",
    "  [\"1\",\"1\",\"0\",\"0\",\"0\"],         \n",
    "  [\"0\",\"0\",\"0\",\"0\",\"0\"]         \n",
    "]\n",
    "* Output: 1\n",
    "\n",
    "\n",
    "* Input: grid = [      \n",
    "  [\"1\",\"1\",\"0\",\"0\",\"0\"],      \n",
    "  [\"1\",\"1\",\"0\",\"0\",\"0\"],      \n",
    "  [\"0\",\"0\",\"1\",\"0\",\"0\"],      \n",
    "  [\"0\",\"0\",\"0\",\"1\",\"1\"]      \n",
    "]\n",
    "* Output: 3"
   ]
  },
  {
   "cell_type": "code",
   "execution_count": null,
   "metadata": {},
   "outputs": [],
   "source": [
    "class Solution:\n",
    "    def numIslands(self, grid: List[List[str]]) -> int:\n",
    "        "
   ]
  },
  {
   "cell_type": "markdown",
   "metadata": {},
   "source": [
    "### 17. Letter Combinations of a Phone Number"
   ]
  },
  {
   "cell_type": "markdown",
   "metadata": {},
   "source": [
    "* Input: \"23\"\n",
    "* Output: [\"ad\", \"ae\", \"af\", \"bd\", \"be\", \"bf\", \"cd\", \"ce\", \"cf\"]."
   ]
  },
  {
   "cell_type": "code",
   "execution_count": null,
   "metadata": {},
   "outputs": [],
   "source": [
    "class Solution:\n",
    "    def letterCombinations(self, digits: str) -> List[str]:\n",
    "        tel = {\n",
    "            '2' : [\"a\",\"b\",\"c\"],\n",
    "            '3' : [\"d\",\"e\",\"f\"],\n",
    "            '4' : [\"g\",\"h\",\"i\"],\n",
    "            '5' : [\"j\",\"k\",\"l\"],\n",
    "            '6' : [\"m\",\"n\",\"o\"],\n",
    "            '7' : [\"p\",\"q\",\"r\",\"s\"],\n",
    "            '8' : [\"t\",\"u\",\"v\"],\n",
    "            '9' : [\"w\",\"x\",\"y\",\"z\"]\n",
    "        }\n",
    "        \n",
    "        lst = [tel[d] for d in digits if d not in [\"0\", \"1\"]]\n",
    "        return [''.join(x) for x in list(itertools.product(*lst)) if x]"
   ]
  },
  {
   "cell_type": "markdown",
   "metadata": {},
   "source": [
    "### 46. Permutations"
   ]
  },
  {
   "cell_type": "markdown",
   "metadata": {},
   "source": [
    "* Input: [1,2,3]         \n",
    "* Output:\n",
    "[         \n",
    "  [1,2,3],        \n",
    "  [1,3,2],        \n",
    "  [2,1,3],        \n",
    "  [2,3,1],        \n",
    "  [3,1,2],        \n",
    "  [3,2,1]        \n",
    "]"
   ]
  },
  {
   "cell_type": "code",
   "execution_count": 383,
   "metadata": {},
   "outputs": [],
   "source": [
    "lst = [1,2,3]"
   ]
  },
  {
   "cell_type": "code",
   "execution_count": null,
   "metadata": {},
   "outputs": [],
   "source": [
    "from itertools import permutations"
   ]
  },
  {
   "cell_type": "code",
   "execution_count": null,
   "metadata": {},
   "outputs": [],
   "source": [
    "class Solution:\n",
    "    def permute(self, nums: List[int]) -> List[List[int]]:\n",
    "        return [list(i) for i in list(permutations(nums,len(nums)))]"
   ]
  },
  {
   "cell_type": "markdown",
   "metadata": {},
   "source": [
    "### 77. Combinations"
   ]
  },
  {
   "cell_type": "markdown",
   "metadata": {},
   "source": [
    "* Input: n = 4, k = 2\n",
    "* Output:\n",
    "[            \n",
    "  [2,4],            \n",
    "  [3,4],            \n",
    "  [2,3],            \n",
    "  [1,2],            \n",
    "  [1,3],            \n",
    "  [1,4],            \n",
    "]"
   ]
  },
  {
   "cell_type": "code",
   "execution_count": 390,
   "metadata": {},
   "outputs": [],
   "source": [
    "from itertools import combinations"
   ]
  },
  {
   "cell_type": "code",
   "execution_count": null,
   "metadata": {},
   "outputs": [],
   "source": [
    "class Solution:\n",
    "    def combine(self, n: int, k: int) -> List[List[int]]:\n",
    "        lst = [i+1 for i in range(n)]\n",
    "        return [list(i) for i in list(combinations(lst,k))]"
   ]
  },
  {
   "cell_type": "markdown",
   "metadata": {},
   "source": [
    "### 39. Combination Sum"
   ]
  },
  {
   "cell_type": "markdown",
   "metadata": {},
   "source": [
    "* Input: candidates = [2,3,6,7], target = 7,\n",
    "* A solution set is:\n",
    "[           \n",
    "  [7],         \n",
    "  [2,2,3]         \n",
    "]"
   ]
  },
  {
   "cell_type": "code",
   "execution_count": 442,
   "metadata": {},
   "outputs": [],
   "source": [
    "candidates = [2,3,6,7]\n",
    "target = 7"
   ]
  },
  {
   "cell_type": "code",
   "execution_count": 426,
   "metadata": {},
   "outputs": [],
   "source": [
    "from itertools import combinations_with_replacement"
   ]
  },
  {
   "cell_type": "code",
   "execution_count": 443,
   "metadata": {},
   "outputs": [],
   "source": [
    "lst = []\n",
    "n = target//min(candidates)\n",
    "\n",
    "for k in range(n) : \n",
    "    lst.extend([list(i) for i in list(combinations_with_replacement(candidates,k+1))])"
   ]
  },
  {
   "cell_type": "code",
   "execution_count": 445,
   "metadata": {},
   "outputs": [
    {
     "data": {
      "text/plain": [
       "[[7], [2, 2, 3]]"
      ]
     },
     "execution_count": 445,
     "metadata": {},
     "output_type": "execute_result"
    }
   ],
   "source": [
    "[l for l in lst if sum(l)==target]"
   ]
  },
  {
   "cell_type": "code",
   "execution_count": null,
   "metadata": {},
   "outputs": [],
   "source": [
    "class Solution:\n",
    "    def combinationSum(self, candidates: List[int], target: int) -> List[List[int]]:\n",
    "        lst = []\n",
    "        n = target//min(candidates)\n",
    "        \n",
    "        for k in range(n) : \n",
    "            lst.extend([list(i) for i in list(combinations_with_replacement(candidates,k+1))])\n",
    "            \n",
    "        return [l for l in lst if sum(l)==target]"
   ]
  },
  {
   "cell_type": "markdown",
   "metadata": {},
   "source": [
    "### 78. Subsets"
   ]
  },
  {
   "cell_type": "markdown",
   "metadata": {},
   "source": [
    "* Input: nums = [1,2,3]\n",
    "* Output:\n",
    "[             \n",
    "  [3],           \n",
    "  [1],           \n",
    "  [2],           \n",
    "  [1,2,3],           \n",
    "  [1,3],           \n",
    "  [2,3],           \n",
    "  [1,2],           \n",
    "  []           \n",
    "]"
   ]
  },
  {
   "cell_type": "code",
   "execution_count": 392,
   "metadata": {},
   "outputs": [],
   "source": [
    "nums = [1,2,3]"
   ]
  },
  {
   "cell_type": "code",
   "execution_count": null,
   "metadata": {},
   "outputs": [],
   "source": [
    "class Solution:\n",
    "    def subsets(self, nums: List[int]) -> List[List[int]]:\n",
    "        lst = []\n",
    "        for k in range(len(nums)) : \n",
    "            lst.extend([list(i) for i in list(combinations(nums,k+1))])\n",
    "            \n",
    "        return lst"
   ]
  },
  {
   "cell_type": "markdown",
   "metadata": {},
   "source": [
    "### 332. Reconstruct Itinerary"
   ]
  },
  {
   "cell_type": "markdown",
   "metadata": {},
   "source": [
    "* Input: [[\"MUC\", \"LHR\"], [\"JFK\", \"MUC\"], [\"SFO\", \"SJC\"], [\"LHR\", \"SFO\"]]\n",
    "* Output: [\"JFK\", \"MUC\", \"LHR\", \"SFO\", \"SJC\"]\n",
    "\n",
    "\n",
    "* Input: [[\"JFK\",\"SFO\"],[\"JFK\",\"ATL\"],[\"SFO\",\"ATL\"],[\"ATL\",\"JFK\"],[\"ATL\",\"SFO\"]]\n",
    "* Output: [\"JFK\",\"ATL\",\"JFK\",\"SFO\",\"ATL\",\"SFO\"]"
   ]
  },
  {
   "cell_type": "code",
   "execution_count": null,
   "metadata": {},
   "outputs": [],
   "source": []
  },
  {
   "cell_type": "code",
   "execution_count": null,
   "metadata": {},
   "outputs": [],
   "source": []
  },
  {
   "cell_type": "markdown",
   "metadata": {},
   "source": [
    "### 207. Course Schedule"
   ]
  },
  {
   "cell_type": "markdown",
   "metadata": {},
   "source": [
    "* Input: numCourses = 2, prerequisites = [[1,0]]\n",
    "* Output: true\n",
    "* Explanation: There are a total of 2 courses to take. \n",
    "             To take course 1 you should have finished course 0. So it is possible.\n",
    "             \n",
    "         \n",
    "         \n",
    "* Input: numCourses = 2, prerequisites = [[1,0],[0,1]]\n",
    "* Output: false\n",
    "* Explanation: There are a total of 2 courses to take. \n",
    "             To take course 1 you should have finished course 0, and to take course 0 you should\n",
    "             also have finished course 1. So it is impossible."
   ]
  },
  {
   "cell_type": "code",
   "execution_count": null,
   "metadata": {},
   "outputs": [],
   "source": [
    "class Solution:\n",
    "    def canFinish(self, numCourses: int, prerequisites: List[List[int]]) -> bool:\n",
    "        "
   ]
  },
  {
   "cell_type": "code",
   "execution_count": null,
   "metadata": {},
   "outputs": [],
   "source": []
  },
  {
   "cell_type": "markdown",
   "metadata": {},
   "source": [
    "## 13장 : 최단 경로 문제"
   ]
  },
  {
   "cell_type": "markdown",
   "metadata": {},
   "source": [
    "### 743. Network Delay Time"
   ]
  },
  {
   "cell_type": "markdown",
   "metadata": {},
   "source": [
    "* Input: times = [[2,1,1],[2,3,1],[3,4,1]], N = 4, K = 2\n",
    "* Output: 2"
   ]
  },
  {
   "cell_type": "code",
   "execution_count": 464,
   "metadata": {},
   "outputs": [],
   "source": [
    "times = [[2,1,1],[2,3,1],[3,4,1]]\n",
    "N = 4\n",
    "K = 2"
   ]
  },
  {
   "cell_type": "code",
   "execution_count": 469,
   "metadata": {},
   "outputs": [],
   "source": [
    "import collections"
   ]
  },
  {
   "cell_type": "code",
   "execution_count": 472,
   "metadata": {},
   "outputs": [],
   "source": [
    "graph = collections.defaultdict(list)\n",
    "for u, v, w in times:\n",
    "    graph[u].append((v, w))"
   ]
  },
  {
   "cell_type": "code",
   "execution_count": 473,
   "metadata": {},
   "outputs": [
    {
     "data": {
      "text/plain": [
       "defaultdict(list, {2: [(1, 1), (3, 1)], 3: [(4, 1)]})"
      ]
     },
     "execution_count": 473,
     "metadata": {},
     "output_type": "execute_result"
    }
   ],
   "source": [
    "graph"
   ]
  },
  {
   "cell_type": "markdown",
   "metadata": {},
   "source": [
    "### 787. Cheapest Flights Within K Stops"
   ]
  }
 ],
 "metadata": {
  "kernelspec": {
   "display_name": "Python 3",
   "language": "python",
   "name": "python3"
  },
  "language_info": {
   "codemirror_mode": {
    "name": "ipython",
    "version": 3
   },
   "file_extension": ".py",
   "mimetype": "text/x-python",
   "name": "python",
   "nbconvert_exporter": "python",
   "pygments_lexer": "ipython3",
   "version": "3.6.8rc1"
  }
 },
 "nbformat": 4,
 "nbformat_minor": 4
}
